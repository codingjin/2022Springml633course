{
  "cells": [
    {
      "cell_type": "markdown",
      "id": "ef1b061a",
      "metadata": {
        "id": "ef1b061a"
      },
      "source": [
        "# Regression and Classification Trees\n",
        "- **100 points**\n",
        "- **Due Tuesday, April 19, 11:59 pm**\n",
        "\n",
        "In this assignment, you'll be coding up regression and classification trees from scratch. Trees are a special class of graphs with only directed edges sans any cycles. They fall under the category of directed acyclic graphs or DAGs. So, trees are DAGs where each child node has only one parent node.  \n",
        "\n",
        "Since trees are easy to design recursively, it is super important that you're familiar with **recursion**. So, it is highly recommended that you brush up on recursion and tree-based search algorithms such as depth-first search (BFS) and breadth-first search (BFS). \n",
        "\n",
        "### Instructions\n",
        "- You are **NOT** allowed to use machine learning libraries such as scikit-learn to build regression and classification trees for this assignment.\n",
        "- You are required to complete the functions defined in the code blocks following each question. Fill out sections of the code marked `\"YOUR CODE HERE\"`.\n",
        "- You're free to change the definition of the methods and the name of the methods within each class. \n",
        "- You're free to add any number of methods within each class.\n",
        "- You may also add any number of additional code blocks that you deem necessary. \n",
        "- Do **NOT REMOVE or CHANGE** any code that is **NOT** in the regressor and classifier class, and is not marked with `\"YOUR CODE HERE\"`.\n",
        "- Once you've filled out your solutions, submit the notebook on Canvas.\n",
        "- Do **NOT** forget to type in your name and UIN at the beginning of the notebook."
      ]
    },
    {
      "cell_type": "markdown",
      "id": "a419604e",
      "metadata": {
        "id": "a419604e"
      },
      "source": [
        "Below is a suggested sequence of steps you may want to think along for building regression and classification trees.\n",
        "\n",
        "1. **Defining a criteria for splitting.**\n",
        "    1. This criteria assigns a score to a split.\n",
        "    1. For regression trees, this would be the mean squared error.\n",
        "    2. For decision trees, this would be the entropy.\n",
        "2. **Create the split.**\n",
        "    1. Split the dataset by iterating over all the rows and feature columns.\n",
        "    2. Evaluate all the splits using the splitting criteria.\n",
        "    3. Choose the best split.\n",
        "3. **Build the tree.**\n",
        "    1. Terminal nodes: decide when to stop growing a tree. This would be the maximum allowed depth of the tree or when a leaf is empty or has only 1 element.\n",
        "    2. Recursive splitting: once a split is created, you can split it further recursively by calling the same splitting function on it.\n",
        "    3. Building a tree: create a root node and apply recursive splitting on it.\n",
        "4. **Make predictions with the tree.**\n",
        "    1. For a given data point, make a prediction using the tree."
      ]
    },
    {
      "cell_type": "markdown",
      "id": "6bc18eb0",
      "metadata": {
        "id": "6bc18eb0"
      },
      "source": [
        "## Question 1 (50 points)\n",
        "\n",
        "## Growing a maximum-depth regression tree\n",
        "\n",
        "The recursive procedure for growing a deep regression tree is illustrated in the figure below. We begin (on the left) by fitting a stump to the original dataset. As we move from left to right the recursion proceeds, with each leaf of the preceding tree split in order to create the next, deeper tree. As can be seen in the rightmost panel, a tree with maximum depth of four is capable of representing the training data perfectly.  \n",
        "\n",
        "![Error loading image](http://people.tamu.edu/~sumedhpendurkar/csce633/decision_tree_img.jpeg)\n",
        "\n",
        "**Peform the experiment shown in the figure by coding up a recursively defined regression tree. Instead of reproducing the plot, measure and plot the mean squared error (MSE) at each depth of your tree.**"
      ]
    },
    {
      "cell_type": "code",
      "source": [
        ""
      ],
      "metadata": {
        "id": "JPLB0gADnSws"
      },
      "id": "JPLB0gADnSws",
      "execution_count": null,
      "outputs": []
    },
    {
      "cell_type": "code",
      "execution_count": null,
      "id": "b0ecfe6e",
      "metadata": {
        "id": "b0ecfe6e"
      },
      "outputs": [],
      "source": [
        "# Importing Libraries\n",
        "import numpy as np\n",
        "import pandas as pd\n",
        "import matplotlib.pyplot as plt\n",
        "%matplotlib inline\n"
      ]
    },
    {
      "cell_type": "code",
      "execution_count": null,
      "id": "6001bc5e",
      "metadata": {
        "id": "6001bc5e"
      },
      "outputs": [],
      "source": [
        "csvname = 'http://people.tamu.edu/~sumedhpendurkar/csce633/noisy_sin_subsample_2.csv'\n",
        "data_regress = np.loadtxt(csvname, delimiter = ',')\n",
        "data_regress = np.array([[x, y] for x,y in zip(*data_regress)])"
      ]
    },
    {
      "cell_type": "code",
      "execution_count": null,
      "id": "8ff3b31f",
      "metadata": {
        "id": "8ff3b31f",
        "colab": {
          "base_uri": "https://localhost:8080/",
          "height": 279
        },
        "outputId": "640c9f8d-6347-4ac7-a0fb-e3fecee2c54e"
      },
      "outputs": [
        {
          "output_type": "display_data",
          "data": {
            "text/plain": [
              "<Figure size 432x288 with 1 Axes>"
            ],
            "image/png": "[encoded data removed]"
          },
          "metadata": {
            "needs_background": "light"
          }
        }
      ],
      "source": [
        "# Plot the data\n",
        "plt.figure()\n",
        "plt.scatter(data_regress[:, 0], data_regress[:, 1])\n",
        "plt.xlabel(\"Features, x\")\n",
        "plt.ylabel(\"Target values, y\")\n",
        "plt.show()"
      ]
    },
    {
      "cell_type": "markdown",
      "id": "5f8993ec",
      "metadata": {
        "id": "5f8993ec"
      },
      "source": [
        "**Build the regression tree in the `TreeRegressor` class**.  \n",
        "***TIP:*** *If you are smart about building the regression tree, you can reuse most of the code for building the classification tree in Question 2.*"
      ]
    },
    {
      "cell_type": "code",
      "source": [
        "# defeine a class Node myself, for the node datastructure\n",
        "class Node():\n",
        "  def __init__(self, feature_i=None, condition=None, left=None, right=None, leafvalue=None):\n",
        "    self.feature_i = feature_i\n",
        "    self.condition = condition\n",
        "    self.left = left\n",
        "    self.right = right\n",
        "    self.leafvalue = leafvalue\n",
        "\n",
        "#print(data_regress)"
      ],
      "metadata": {
        "id": "e8Wq8PvxI3lh"
      },
      "id": "e8Wq8PvxI3lh",
      "execution_count": null,
      "outputs": []
    },
    {
      "cell_type": "code",
      "execution_count": null,
      "id": "275fdf6f",
      "metadata": {
        "id": "275fdf6f"
      },
      "outputs": [],
      "source": [
        "class TreeRegressor():\n",
        "    def __init__(self, data, max_depth=1):\n",
        "        self.data = data # last element of each row in data is the target variable\n",
        "        self.max_depth = max_depth # maximum depth\n",
        "        ######################\n",
        "        #   YOUR CODE HERE   #\n",
        "        ######################\n",
        "        # You may add additional fields\n",
        "    \n",
        "    def generate_tree(self):\n",
        "        \"\"\"\n",
        "        Generates a tree recursively.\n",
        "        \"\"\"\n",
        "        ######################\n",
        "        #   YOUR CODE HERE   #\n",
        "        ######################\n",
        "        return self.build_tree(self.data)\n",
        "\n",
        "\n",
        "    def build_tree(self, data, current_depth=0):\n",
        "      if len(data)==0: return None\n",
        "\n",
        "      X, Y = data[:, :-1], data[:, -1]\n",
        "      nsample, nfeature = X.shape\n",
        "      current_var = self.mean_squared_error(Y)\n",
        "      if current_depth==self.max_depth or current_var==0:\n",
        "        return Node(leafvalue=self.calculate_leafvalue(Y))\n",
        "      else:\n",
        "        maxig = -float(\"inf\")\n",
        "        record = {}\n",
        "        for fi in range(0, nfeature):\n",
        "          feature_values = np.unique(X[:, fi])\n",
        "          for condition in feature_values:\n",
        "            left_data = np.array([row for row in data if row[fi]<=condition])\n",
        "            right_data = np.array([row for row in data if row[fi]>condition])\n",
        "            if len(left_data)>0 and len(right_data)>0:\n",
        "              current_ig = self.calculate_ig(Y, left_data[:, -1], right_data[:, -1])\n",
        "              if current_ig>maxig:\n",
        "                record['feature_i'] = fi\n",
        "                record['condition'] = condition\n",
        "                record['left_data'] = left_data\n",
        "                record['right_data'] = right_data\n",
        "                maxig = current_ig\n",
        "        # for end\n",
        "        left_child = self.build_tree(record['left_data'], current_depth+1)\n",
        "        right_child = self.build_tree(record['right_data'], current_depth+1)\n",
        "        return Node(feature_i=record['feature_i'], condition=record['condition'], left=left_child, right=right_child, leafvalue=None)\n",
        "\n",
        "    def calculate_leafvalue(self, splits):\n",
        "      return np.mean(splits)\n",
        "    \n",
        "    def calculate_ig(self, y, left_y, right_y):\n",
        "      left_weight = float(len(left_y)) / float(len(y))\n",
        "      right_weight = float(len(right_y)) / float(len(y))\n",
        "      return self.mean_squared_error(y) - left_weight*self.mean_squared_error(left_y) - right_weight*self.mean_squared_error(right_y)\n",
        "\n",
        "    def mean_squared_error(self, splits):\n",
        "        \"\"\"\n",
        "        Returns the mean squared error for a split dataset.\n",
        "        \n",
        "        Args:\n",
        "            splits: array containing splits\n",
        "        Returns:\n",
        "            MSE\n",
        "        \"\"\"\n",
        "        ######################\n",
        "        #   YOUR CODE HERE   #\n",
        "        ######################\n",
        "        return np.var(splits)"
      ]
    },
    {
      "cell_type": "markdown",
      "id": "9448b6ec",
      "metadata": {
        "id": "9448b6ec"
      },
      "source": [
        "**Don't forget to create a method to make predictions using your tree. You may create a separate function for it or make it a part of the `TreeRegressor` class.** "
      ]
    },
    {
      "cell_type": "code",
      "execution_count": null,
      "id": "ba93af0c",
      "metadata": {
        "id": "ba93af0c"
      },
      "outputs": [],
      "source": [
        "def predict(tree, data_point):\n",
        "    \"\"\"\n",
        "    Returns the prediction for a sample data point.\n",
        "\n",
        "    Args:\n",
        "        tree: the tree object\n",
        "        data_point: a data point\n",
        "    Returns:\n",
        "        The predicted value.\n",
        "    \"\"\"\n",
        "    ######################\n",
        "    #   YOUR CODE HERE   #\n",
        "    ######################\n",
        "    if tree.leafvalue!=None:\n",
        "      return tree.leafvalue\n",
        "    feature_i = tree.feature_i\n",
        "    if data_point[feature_i]<=tree.condition:\n",
        "      return predict(tree.left, data_point)\n",
        "    else:\n",
        "      return predict(tree.right, data_point)"
      ]
    },
    {
      "cell_type": "markdown",
      "id": "e4210437",
      "metadata": {
        "id": "e4210437"
      },
      "source": [
        "**Plot the MSE at each depth of your tree**"
      ]
    },
    {
      "cell_type": "code",
      "execution_count": null,
      "id": "3db0f4b2",
      "metadata": {
        "id": "3db0f4b2"
      },
      "outputs": [],
      "source": [
        "mse_depths = []\n",
        "for depth in range(1, 5):\n",
        "    # Create a regression tree object\n",
        "    regressor = TreeRegressor(data_regress, depth)\n",
        "    # Train the tree\n",
        "    tree = regressor.generate_tree()\n",
        "    mse = 0.0\n",
        "    for data_point in data_regress:\n",
        "        mse += (data_point[-1] - predict(tree, data_point[:-1]))**2\n",
        "    mse_depths.append(mse/len(data_regress))"
      ]
    },
    {
      "cell_type": "code",
      "execution_count": null,
      "id": "80f2b91d",
      "metadata": {
        "id": "80f2b91d",
        "colab": {
          "base_uri": "https://localhost:8080/",
          "height": 279
        },
        "outputId": "d21d6d26-9edf-444e-b646-33b2cda8784f"
      },
      "outputs": [
        {
          "output_type": "display_data",
          "data": {
            "text/plain": [
              "<Figure size 432x288 with 1 Axes>"
            ],
            "image/png": "[encoded data removed]"
          },
          "metadata": {
            "needs_background": "light"
          }
        }
      ],
      "source": [
        "# Plot the MSE\n",
        "plt.figure()\n",
        "plt.plot(mse_depths, '-o')\n",
        "plt.xlabel(\"Depth\")\n",
        "plt.ylabel(\"MSE\")\n",
        "plt.show()"
      ]
    },
    {
      "cell_type": "markdown",
      "id": "496655c9",
      "metadata": {
        "id": "496655c9"
      },
      "source": [
        "## Question 2 (50 points)\n",
        "\n",
        "## Growing a two-class classification tree\n",
        "\n",
        "The figure below shows the growth of a tree to a maximum depth of seven on a two-class classification dataset. As the tree grows, note how many parts of the input space do not change as leaves on the deeper branches become *pure*. By the time we reach a maximum depth of seven, there is considerable overfitting. \n",
        "\n",
        "![Error loading image](http://people.tamu.edu/~sumedhpendurkar/csce633/decision_tree_img_2.jpeg)\n",
        "\n",
        "**Perform the experiment shown in figure by coding up a recursively defined two-class classification tree. Instead of reproducing the plot, measure and plot the classification accuracy at each depth of your tree.**"
      ]
    },
    {
      "cell_type": "code",
      "execution_count": null,
      "id": "c5da5319",
      "metadata": {
        "id": "c5da5319"
      },
      "outputs": [],
      "source": [
        "csvname = 'http://people.tamu.edu/~sumedhpendurkar/csce633/new_circle_data.csv'\n",
        "data_class = np.loadtxt(csvname, delimiter = ',')\n",
        "data_class = np.array([[x1, x2, y] for x1,x2,y in zip(*data_class)])"
      ]
    },
    {
      "cell_type": "code",
      "execution_count": null,
      "id": "3e0dae6f",
      "metadata": {
        "scrolled": true,
        "id": "3e0dae6f",
        "colab": {
          "base_uri": "https://localhost:8080/",
          "height": 279
        },
        "outputId": "8d9caa22-7fa3-4ff5-8f13-f9b6518585c2"
      },
      "outputs": [
        {
          "output_type": "display_data",
          "data": {
            "text/plain": [
              "<Figure size 432x288 with 1 Axes>"
            ],
            "image/png": "[encoded data removed]"
          },
          "metadata": {
            "needs_background": "light"
          }
        }
      ],
      "source": [
        "# Plot the data\n",
        "plt.figure()\n",
        "plt.scatter(data_class[:, 0], data_class[:, 1], c=-data_class[:, 2], cmap='bwr')\n",
        "plt.xlabel(\"Features, x1\")\n",
        "plt.ylabel(\"Features, x2\")\n",
        "plt.show()"
      ]
    },
    {
      "cell_type": "code",
      "source": [
        "class Node():\n",
        "  def __init__(self, feature_i=None, condition=None, left=None, right=None, leafvalue=None):\n",
        "    self.feature_i = feature_i\n",
        "    self.condition = condition\n",
        "    self.left = left\n",
        "    self.right = right\n",
        "    self.leafvalue = leafvalue\n"
      ],
      "metadata": {
        "id": "X5nGfXFekXpk"
      },
      "id": "X5nGfXFekXpk",
      "execution_count": null,
      "outputs": []
    },
    {
      "cell_type": "code",
      "execution_count": null,
      "id": "94ba3ba4",
      "metadata": {
        "id": "94ba3ba4"
      },
      "outputs": [],
      "source": [
        "#from numpy.ma.core import count\n",
        "# TreeClassifier is a derived class of TreeRegressor\n",
        "\n",
        "class TreeClassifier(TreeRegressor):\n",
        "  def __init__(self, data, max_depth=1):\n",
        "    self.data = data\n",
        "    self.max_depth = max_depth\n",
        "\n",
        "  def generate_tree(self):\n",
        "    \"\"\"\n",
        "    Generates a tree recursively.\n",
        "    \"\"\"\n",
        "    ######################\n",
        "    #   YOUR CODE HERE   #\n",
        "    ######################\n",
        "    return self.build_tree(self.data)\n",
        "\n",
        "\n",
        "  def build_tree(self, data, current_depth=0):\n",
        "    if len(data)==0: return None\n",
        "\n",
        "    X, Y = data[:, :-1], data[:, -1]\n",
        "    nsample, nfeature = X.shape\n",
        "    #if nsample==1 or self.entropy(Y)==0:\n",
        "    #  return Node(leafvalue=Y[0])\n",
        "    #elif current_depth==self.max_depth:\n",
        "    if nsample<=1 or self.entropy(Y)==0 or current_depth==self.max_depth:\n",
        "      return Node(leafvalue=self.calculate_leafvalue(Y))\n",
        "    else:\n",
        "      maxig = -float(\"inf\")\n",
        "      record = {}\n",
        "      for fi in range(nfeature):\n",
        "        condition_values = np.unique(data[:, fi])\n",
        "        for condition in condition_values:\n",
        "          #print(condition)\n",
        "          left_data = np.array([row for row in data if row[fi]<=condition])\n",
        "          right_data = np.array([row for row in data if row[fi]>condition])\n",
        "          if len(left_data)>0 and len(right_data)>0:\n",
        "            current_ig = self.calculate_ig(Y, left_data[:, -1], right_data[:, -1])\n",
        "            if current_ig>maxig:\n",
        "              record['feature_i'] = fi\n",
        "              record['condition'] = condition\n",
        "              record['left_data'] = left_data\n",
        "              record['right_data'] = right_data\n",
        "              maxig = current_ig\n",
        "              #print(maxig)\n",
        "\n",
        "      left_child = self.build_tree(record['left_data'], current_depth+1)\n",
        "      right_child = self.build_tree(record['right_data'], current_depth+1)\n",
        "      return Node(record['feature_i'], record['condition'], left_child, right_child)\n",
        "\n",
        "\n",
        "  def calculate_leafvalue(self, y):\n",
        "    yy = list(y)\n",
        "    return max(yy, key=yy.count)\n",
        "\n",
        "  def calculate_ig(self, y, left_y, right_y):\n",
        "    left_weight = float(len(left_y)) / float(len(y))\n",
        "    right_weight = float(len(right_y)) / float(len(y))\n",
        "    return self.entropy(y) - left_weight*self.entropy(left_y) - right_weight*self.entropy(right_y)\n",
        "\n",
        "  def entropy(self, y):\n",
        "    \"\"\"\n",
        "    Returns the entropy for a split dataset.\n",
        "        \n",
        "    Args:\n",
        "    splits: array containing splits\n",
        "    Returns:\n",
        "    Entropy\n",
        "    \"\"\"\n",
        "    ######################\n",
        "    #   YOUR CODE HERE   #\n",
        "    ######################\n",
        "    labels = np.unique(y)\n",
        "    n, result = len(y), 0\n",
        "    for label in labels:\n",
        "      pi = float(len(y[y==label])) / float(n)\n",
        "      result += -pi*np.log2(pi)\n",
        "    \n",
        "    return result\n",
        "    \n"
      ]
    },
    {
      "cell_type": "markdown",
      "id": "4fdf65dc",
      "metadata": {
        "id": "4fdf65dc"
      },
      "source": [
        "**Don't forget to create a method to make predictions using your tree.**  "
      ]
    },
    {
      "cell_type": "code",
      "execution_count": null,
      "id": "a37a67da",
      "metadata": {
        "id": "a37a67da"
      },
      "outputs": [],
      "source": [
        "def predict(tree, data_point):\n",
        "    \"\"\"\n",
        "    Returns the prediction for a sample data point.\n",
        "\n",
        "    Args:\n",
        "        tree: the tree object\n",
        "        data_point: a data point\n",
        "    Returns:\n",
        "        The predicted class.\n",
        "    \"\"\"\n",
        "    ######################\n",
        "    #   YOUR CODE HERE   #\n",
        "    ######################\n",
        "    if tree.leafvalue!=None: return tree.leafvalue\n",
        "\n",
        "    feature_i = tree.feature_i\n",
        "    #print(tree.condition)\n",
        "    if data_point[feature_i]<=tree.condition:\n",
        "      return predict(tree.left, data_point)\n",
        "    else:\n",
        "      return predict(tree.right, data_point)"
      ]
    },
    {
      "cell_type": "markdown",
      "id": "264bc194",
      "metadata": {
        "id": "264bc194"
      },
      "source": [
        "**Plot the classification accuracy at each depth of your tree.**"
      ]
    },
    {
      "cell_type": "code",
      "execution_count": null,
      "id": "2c438299",
      "metadata": {
        "id": "2c438299"
      },
      "outputs": [],
      "source": [
        "accuracy_depths = []\n",
        "for depth in range(1, 8):\n",
        "    # Create a classification tree object\n",
        "    classifier = TreeClassifier(data_class, depth)\n",
        "    # Train the tree\n",
        "    tree = classifier.generate_tree()\n",
        "    correct = 0.0\n",
        "    for data_point in data_class:\n",
        "         correct += float(data_point[-1] == predict(tree, data_point[:-1]))\n",
        "    accuracy_depths.append(correct/len(data_class))"
      ]
    },
    {
      "cell_type": "code",
      "execution_count": null,
      "id": "06fab926",
      "metadata": {
        "id": "06fab926",
        "colab": {
          "base_uri": "https://localhost:8080/",
          "height": 279
        },
        "outputId": "cd55baf1-bfef-4bbc-a81d-0eefa6e1c9d3"
      },
      "outputs": [
        {
          "output_type": "display_data",
          "data": {
            "text/plain": [
              "<Figure size 432x288 with 1 Axes>"
            ],
            "image/png": "[encoded data removed]"
          },
          "metadata": {
            "needs_background": "light"
          }
        }
      ],
      "source": [
        "# Plot the Accuracy\n",
        "plt.figure()\n",
        "plt.plot(accuracy_depths, '-o')\n",
        "plt.xlabel(\"Depth\")\n",
        "plt.ylabel(\"Accuracy\")\n",
        "plt.show()\n",
        "#print(accuracy_depths)"
      ]
    }
  ],
  "metadata": {
    "kernelspec": {
      "display_name": "Python 3",
      "language": "python",
      "name": "python3"
    },
    "language_info": {
      "codemirror_mode": {
        "name": "ipython",
        "version": 3
      },
      "file_extension": ".py",
      "mimetype": "text/x-python",
      "name": "python",
      "nbconvert_exporter": "python",
      "pygments_lexer": "ipython3",
      "version": "3.6.13"
    },
    "colab": {
      "name": "pa5.ipynb",
      "provenance": [],
      "collapsed_sections": []
    }
  },
  "nbformat": 4,
  "nbformat_minor": 5
}