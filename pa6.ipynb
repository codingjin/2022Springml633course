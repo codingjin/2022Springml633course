{
  "cells": [
    {
      "cell_type": "markdown",
      "metadata": {
        "id": "YPi6u7FGd7e3"
      },
      "source": [
        "# Convolutional Neural Networks\n",
        "\n",
        "In this assignment, you'll be coding up a convolutional neural network from scratch to classify images using PyTorch.  \n",
        "\n",
        "### Instructions\n",
        "- The maximum number of parameters you are allowed to use for your network is **100,000**. \n",
        "- You are required to complete the functions defined in the code blocks following each question. Fill out sections of the code marked `\"YOUR CODE HERE\"`.\n",
        "- You're free to add any number of methods within each class.\n",
        "- You may also add any number of additional code blocks that you deem necessary. \n",
        "- Once you've filled out your solutions, submit the notebook on Canvas following the instructions [here](https://people.engr.tamu.edu/guni/csce421/assignments.html).\n",
        "- Do **NOT** forget to type in your name and UIN at the beginning of the notebook.\n",
        "- Make sure the notebook runs on google colab **WITHOUT** any issues when all cells are ran sequentially (includes installation of libraries). Points might be deducted if there are any bugs present."
      ]
    },
    {
      "cell_type": "markdown",
      "metadata": {
        "id": "9_a3M4lEd7e5"
      },
      "source": [
        "## Install Dependencies"
      ]
    },
    {
      "cell_type": "code",
      "execution_count": null,
      "metadata": {
        "colab": {
          "base_uri": "https://localhost:8080/"
        },
        "id": "TKDagLaPjFLC",
        "outputId": "f62721bd-2330-4158-f528-d402c31e99b0"
      },
      "outputs": [
        {
          "output_type": "stream",
          "name": "stdout",
          "text": [
            "Collecting torchinfo\n",
            "  Downloading torchinfo-1.6.5-py3-none-any.whl (21 kB)\n",
            "Installing collected packages: torchinfo\n",
            "Successfully installed torchinfo-1.6.5\n"
          ]
        }
      ],
      "source": [
        "!pip install torchinfo"
      ]
    },
    {
      "cell_type": "code",
      "execution_count": null,
      "metadata": {
        "colab": {
          "base_uri": "https://localhost:8080/"
        },
        "id": "nCzMNSfw7KO0",
        "outputId": "eb1f4fe6-6832-4923-bdd0-db2e3b08e956"
      },
      "outputs": [
        {
          "output_type": "stream",
          "name": "stdout",
          "text": [
            "*** GPU connected\n"
          ]
        }
      ],
      "source": [
        "# \n",
        "# Checking if hardware acceleration enabled\n",
        "import os \n",
        "if int(os.environ['COLAB_GPU']) > 0:\n",
        "  print (\"*** GPU connected\")\n",
        "else:\n",
        "  print (\"*** No hardware acceleration: change to GPU under Runtime > Change runtime type > Hardware accelerator\")"
      ]
    },
    {
      "cell_type": "markdown",
      "metadata": {
        "id": "rBZBZCnqjLsp"
      },
      "source": [
        "## Data Preparation"
      ]
    },
    {
      "cell_type": "code",
      "execution_count": null,
      "metadata": {
        "id": "i0NCql1pd7e6"
      },
      "outputs": [],
      "source": [
        "# Importing the libraries\n",
        "import os\n",
        "import torch\n",
        "import torchvision\n",
        "from torchvision.utils import make_grid\n",
        "from PIL import Image\n",
        "import requests\n",
        "\n",
        "import numpy as np"
      ]
    },
    {
      "cell_type": "markdown",
      "metadata": {
        "id": "MaDH8gtdd7e8"
      },
      "source": [
        "In this assignment, we will use the Fashion-MNIST dataset. Fashion-MNIST is a dataset of Zalando's article images—consisting of a training set of 60,000 examples and a test set of 10,000 examples. Each example is a 28x28 grayscale image, associated with a label from 10 classes.  \n",
        "\n",
        "### Data\n",
        "\n",
        "Each image is 28 pixels in height and 28 pixels in width, for a total of 784 pixels in total. Each pixel has a single pixel-value associated with it, indicating the lightness or darkness of that pixel, with higher numbers meaning darker. This pixel-value is an integer between 0 and 255.  \n",
        "\n",
        "### Labels\n",
        "\n",
        "Each training and test example is assigned to one of the following labels:\n",
        "\n",
        "| Label | Description |\n",
        "|-------|-------------|\n",
        "| 0     | T-shirt/top |\n",
        "| 1     | Trouser     |\n",
        "| 2     | Pullover    |\n",
        "| 3     | Dress       |\n",
        "| 4     | Coat        |\n",
        "| 5     | Sandal      |\n",
        "| 6     | Shirt       |\n",
        "| 7     | Sneaker     |\n",
        "| 8     | Bag         |\n",
        "| 9     | Ankle boot  |\n",
        "\n",
        "Fashion-MNIST is included in the `torchvision` library."
      ]
    },
    {
      "cell_type": "code",
      "execution_count": null,
      "metadata": {
        "id": "Z798mUqTd7e9"
      },
      "outputs": [],
      "source": [
        "from torchvision.datasets import FashionMNIST\n",
        "from torchvision.transforms import Compose, ToTensor, Normalize, RandomHorizontalFlip, RandomCrop, RandomResizedCrop"
      ]
    },
    {
      "cell_type": "code",
      "execution_count": null,
      "metadata": {
        "id": "2Z-JXzcNd7e-",
        "colab": {
          "base_uri": "https://localhost:8080/",
          "height": 429,
          "referenced_widgets": [
            "c8bc6c188bab43269b5df5df9070223b",
            "b19d103ad73247b89567cdc50f246f14",
            "f0a3c4d06de1469aa8968f828f10dfbb",
            "00125fdfe5714923a856d0f592b955a1",
            "b37e20a987534c4a8dc5570ad61055d8",
            "b672c79bc2fc4c17aff29482cb4421dd",
            "74a7e9e062bd44849bf0fc9ec445fca7",
            "58c9c5fe779640a0b51ab50006a5c5b0",
            "c77e5906851741048a24d65833471e7f",
            "fdf2460d47eb41e8b4ca3e4fd113118d",
            "f173e0f4a1c1486999032b6ac08b6e00",
            "17e7c4448bb44ca4b1f4863be971118c",
            "5e06107d566e44bb99153087fcb3161d",
            "06b78eb9e49b4f2ea834d36ebdfc5c92",
            "e9ccc626504746daade1ffab21605c04",
            "b9a5f07f5c7e4d0b9839dd0609982a6d",
            "ea3f8c76de634b4f862b9d8358d31de8",
            "48e0849afe7f4ab3b7e98f21c57401a5",
            "142602a8a79a4cb19028a72c600af23f",
            "08eb0db226f8412aa63db3836972e22e",
            "b039592e3470471b9e82e02a5b30524c",
            "f9036d446ff641998e9773532d3b1121",
            "b400b9e3e6274369bd5e83f48c9fa9ae",
            "6dc23407479d43a7b480c0b52f9cf052",
            "d37fb1d6b23f4680854b6afabc186596",
            "ed8775ef1b044ac89bf4c931d3211535",
            "5ca22e501600408a8b426204b6de66e7",
            "7bc75dc3609249c6aff0c2e0a76ef3b3",
            "2b8cb1822b024e0c8c23b5f315a2e702",
            "d621b7fb4774461891dbcfa47abd30cf",
            "3db5d17a23b948d595e75d527334a2d8",
            "57ea778155244df1b8a95561c1d573a7",
            "09e4202cdc8b4ece87d4248059968abc",
            "61c4f3d62e3243a584678afe76de5666",
            "147657daf5444f698c134efaad023ba8",
            "6cd0920b43c14ad685dc4ee6c7672f8d",
            "350906e30429456aa06831a10b2f3fbe",
            "2ecd96d20d2e49b389b17d86224f1a00",
            "d6cd969d85864914874fe93ea5de4758",
            "f253e5d13ed14e78b5d9054ee56b3669",
            "7fa7bab783354f80a35d5a052a2728eb",
            "d0121d8dfdf84aa1b3e8e0113760baf3",
            "f85e1b62a7f24bc4a8297ccbd37831cc",
            "0f0803be5bc043659368f767db9ba88b"
          ]
        },
        "outputId": "b2c546c4-bd22-4f98-dc86-ac4c8cbf8510"
      },
      "outputs": [
        {
          "output_type": "stream",
          "name": "stdout",
          "text": [
            "Downloading http://fashion-mnist.s3-website.eu-central-1.amazonaws.com/train-images-idx3-ubyte.gz\n",
            "Downloading http://fashion-mnist.s3-website.eu-central-1.amazonaws.com/train-images-idx3-ubyte.gz to MNIST_data/FashionMNIST/raw/train-images-idx3-ubyte.gz\n"
          ]
        },
        {
          "output_type": "display_data",
          "data": {
            "text/plain": [
              "  0%|          | 0/26421880 [00:00<?, ?it/s]"
            ],
            "application/vnd.jupyter.widget-view+json": {
              "version_major": 2,
              "version_minor": 0,
              "model_id": "c8bc6c188bab43269b5df5df9070223b"
            }
          },
          "metadata": {}
        },
        {
          "output_type": "stream",
          "name": "stdout",
          "text": [
            "Extracting MNIST_data/FashionMNIST/raw/train-images-idx3-ubyte.gz to MNIST_data/FashionMNIST/raw\n",
            "\n",
            "Downloading http://fashion-mnist.s3-website.eu-central-1.amazonaws.com/train-labels-idx1-ubyte.gz\n",
            "Downloading http://fashion-mnist.s3-website.eu-central-1.amazonaws.com/train-labels-idx1-ubyte.gz to MNIST_data/FashionMNIST/raw/train-labels-idx1-ubyte.gz\n"
          ]
        },
        {
          "output_type": "display_data",
          "data": {
            "text/plain": [
              "  0%|          | 0/29515 [00:00<?, ?it/s]"
            ],
            "application/vnd.jupyter.widget-view+json": {
              "version_major": 2,
              "version_minor": 0,
              "model_id": "17e7c4448bb44ca4b1f4863be971118c"
            }
          },
          "metadata": {}
        },
        {
          "output_type": "stream",
          "name": "stdout",
          "text": [
            "Extracting MNIST_data/FashionMNIST/raw/train-labels-idx1-ubyte.gz to MNIST_data/FashionMNIST/raw\n",
            "\n",
            "Downloading http://fashion-mnist.s3-website.eu-central-1.amazonaws.com/t10k-images-idx3-ubyte.gz\n",
            "Downloading http://fashion-mnist.s3-website.eu-central-1.amazonaws.com/t10k-images-idx3-ubyte.gz to MNIST_data/FashionMNIST/raw/t10k-images-idx3-ubyte.gz\n"
          ]
        },
        {
          "output_type": "display_data",
          "data": {
            "text/plain": [
              "  0%|          | 0/4422102 [00:00<?, ?it/s]"
            ],
            "application/vnd.jupyter.widget-view+json": {
              "version_major": 2,
              "version_minor": 0,
              "model_id": "b400b9e3e6274369bd5e83f48c9fa9ae"
            }
          },
          "metadata": {}
        },
        {
          "output_type": "stream",
          "name": "stdout",
          "text": [
            "Extracting MNIST_data/FashionMNIST/raw/t10k-images-idx3-ubyte.gz to MNIST_data/FashionMNIST/raw\n",
            "\n",
            "Downloading http://fashion-mnist.s3-website.eu-central-1.amazonaws.com/t10k-labels-idx1-ubyte.gz\n",
            "Downloading http://fashion-mnist.s3-website.eu-central-1.amazonaws.com/t10k-labels-idx1-ubyte.gz to MNIST_data/FashionMNIST/raw/t10k-labels-idx1-ubyte.gz\n"
          ]
        },
        {
          "output_type": "display_data",
          "data": {
            "text/plain": [
              "  0%|          | 0/5148 [00:00<?, ?it/s]"
            ],
            "application/vnd.jupyter.widget-view+json": {
              "version_major": 2,
              "version_minor": 0,
              "model_id": "61c4f3d62e3243a584678afe76de5666"
            }
          },
          "metadata": {}
        },
        {
          "output_type": "stream",
          "name": "stdout",
          "text": [
            "Extracting MNIST_data/FashionMNIST/raw/t10k-labels-idx1-ubyte.gz to MNIST_data/FashionMNIST/raw\n",
            "\n"
          ]
        }
      ],
      "source": [
        "# Transform to normalize the data and convert to a tensor\n",
        "transform = Compose([ToTensor(),\n",
        "    RandomHorizontalFlip(),\n",
        "    #RandomResizedCrop(size=(28, 28)),\n",
        "    Normalize((0.5,), (0.5,))\n",
        "    ])\n",
        "\n",
        "# Download the data\n",
        "dataset = FashionMNIST('MNIST_data/', download = True, train = True, transform = transform)"
      ]
    },
    {
      "cell_type": "markdown",
      "metadata": {
        "id": "poonGygNd7e_"
      },
      "source": [
        "**NOTE:** You may add more operations to `Compose` if you're performing data augmentation."
      ]
    },
    {
      "cell_type": "markdown",
      "metadata": {
        "id": "DaAqD5iod7fA"
      },
      "source": [
        "## Data Exploration"
      ]
    },
    {
      "cell_type": "markdown",
      "metadata": {
        "id": "d0HMLIl8d7fB"
      },
      "source": [
        "Let's take a look at the classes in our dataset."
      ]
    },
    {
      "cell_type": "code",
      "execution_count": null,
      "metadata": {
        "colab": {
          "base_uri": "https://localhost:8080/"
        },
        "id": "fYWMPrqyd7fB",
        "outputId": "9584193c-3808-44df-edad-c3fb79305979"
      },
      "outputs": [
        {
          "output_type": "stream",
          "name": "stdout",
          "text": [
            "['T-shirt/top', 'Trouser', 'Pullover', 'Dress', 'Coat', 'Sandal', 'Shirt', 'Sneaker', 'Bag', 'Ankle boot']\n"
          ]
        }
      ],
      "source": [
        "print(dataset.classes)"
      ]
    },
    {
      "cell_type": "code",
      "execution_count": null,
      "metadata": {
        "id": "fFGZx9tPd7fC"
      },
      "outputs": [],
      "source": [
        "import matplotlib.pyplot as plt\n",
        "\n",
        "def show_example(img, label):\n",
        "    print('Label: {} ({})'.format(dataset.classes[label], label))\n",
        "    plt.imshow(img.squeeze(), cmap='Greys_r')\n",
        "    plt.axis(False)"
      ]
    },
    {
      "cell_type": "code",
      "execution_count": null,
      "metadata": {
        "colab": {
          "base_uri": "https://localhost:8080/",
          "height": 266
        },
        "id": "KH0ujCLzd7fC",
        "outputId": "0e1ebe93-1906-4356-8de2-51f57a5820dd"
      },
      "outputs": [
        {
          "output_type": "stream",
          "name": "stdout",
          "text": [
            "Label: Dress (3)\n"
          ]
        },
        {
          "output_type": "display_data",
          "data": {
            "text/plain": [
              "<Figure size 432x288 with 1 Axes>"
            ],
            "image/png": "[encoded data removed]"
          },
          "metadata": {
            "needs_background": "light"
          }
        }
      ],
      "source": [
        "show_example(*dataset[20])"
      ]
    },
    {
      "cell_type": "code",
      "execution_count": null,
      "metadata": {
        "colab": {
          "base_uri": "https://localhost:8080/",
          "height": 266
        },
        "id": "Ibr_8mvGd7fD",
        "outputId": "13708da3-e486-49dd-9e1c-e3781a91b68e"
      },
      "outputs": [
        {
          "output_type": "stream",
          "name": "stdout",
          "text": [
            "Label: Sneaker (7)\n"
          ]
        },
        {
          "output_type": "display_data",
          "data": {
            "text/plain": [
              "<Figure size 432x288 with 1 Axes>"
            ],
            "image/png": "[encoded data removed]"
          },
          "metadata": {
            "needs_background": "light"
          }
        }
      ],
      "source": [
        "show_example(*dataset[20000])"
      ]
    },
    {
      "cell_type": "markdown",
      "metadata": {
        "id": "v6E5gNKod7fD"
      },
      "source": [
        "## Question 1\n",
        "\n",
        "## Creating Training and Validation Datasets"
      ]
    },
    {
      "cell_type": "markdown",
      "metadata": {
        "id": "gRST2b0Id7fD"
      },
      "source": [
        "The `split_indices` function takes in the size of the entire dataset, `n`, the fraction of data to be used as validation set, `val_frac`, and the random seed and returns the indices of the data points to be added to the validation dataset.  \n",
        "\n",
        "**Choose a suitable fraction for your validation set and experiment with the seed. Remember that the better your validation set, the higher the chances that your model would do well on the test set.**"
      ]
    },
    {
      "cell_type": "code",
      "execution_count": null,
      "metadata": {
        "id": "ICQyVJSCd7fD"
      },
      "outputs": [],
      "source": [
        "def split_indices(n, val_frac, seed):\n",
        "    # Determine the size of the validation set\n",
        "    n_val = int(val_frac * n)\n",
        "    np.random.seed(seed)\n",
        "    # Create random permutation between 0 to n-1\n",
        "    idxs = np.random.permutation(n)\n",
        "    # Pick first n_val indices for validation set\n",
        "    return idxs[n_val:], idxs[:n_val]"
      ]
    },
    {
      "cell_type": "code",
      "execution_count": null,
      "metadata": {
        "id": "Okd969PMd7fE",
        "colab": {
          "base_uri": "https://localhost:8080/"
        },
        "outputId": "a862844c-00e5-4d1e-e458-fa3185b06fb8"
      },
      "outputs": [
        {
          "output_type": "stream",
          "name": "stdout",
          "text": [
            "#samples in training set: 50000\n",
            "#samples in validation set: 10000\n"
          ]
        }
      ],
      "source": [
        "######################\n",
        "#   YOUR CODE HERE   #\n",
        "######################\n",
        "val_frac =  float(10000/60000)## Set the fraction for the validation set\n",
        "rand_seed =  17 ## Set the random seed\n",
        "\n",
        "train_indices, val_indices = split_indices(len(dataset), val_frac, rand_seed)\n",
        "print(\"#samples in training set: {}\".format(len(train_indices)))\n",
        "print(\"#samples in validation set: {}\".format(len(val_indices)))"
      ]
    },
    {
      "cell_type": "markdown",
      "metadata": {
        "id": "TFioAgKgd7fE"
      },
      "source": [
        "Next, we make use of the built-in dataloaders in PyTorch to create iterables of our our training and validation sets. This helps in avoiding fitting the whole dataset into memory and only loads a batch of the data that we can decide. \n",
        "\n",
        "**Set the `batch_size` depending on the hardware resource (GPU/CPU RAM) you are using for the assignment.**"
      ]
    },
    {
      "cell_type": "code",
      "execution_count": null,
      "metadata": {
        "id": "9befIig0d7fE"
      },
      "outputs": [],
      "source": [
        "from torch.utils.data.sampler import SubsetRandomSampler\n",
        "from torch.utils.data.dataloader import DataLoader"
      ]
    },
    {
      "cell_type": "code",
      "execution_count": null,
      "metadata": {
        "id": "vfk3dPrLd7fF"
      },
      "outputs": [],
      "source": [
        "######################\n",
        "#   YOUR CODE HERE   #\n",
        "######################\n",
        "batch_size = 256 ## Set the batch size"
      ]
    },
    {
      "cell_type": "code",
      "execution_count": null,
      "metadata": {
        "id": "1LFDd_qbd7fF"
      },
      "outputs": [],
      "source": [
        "# Training sampler and data loader\n",
        "train_sampler = SubsetRandomSampler(train_indices)\n",
        "train_dl = DataLoader(dataset,\n",
        "                     batch_size,\n",
        "                     sampler=train_sampler)\n",
        "\n",
        "# Validation sampler and data loader\n",
        "val_sampler = SubsetRandomSampler(val_indices)\n",
        "val_dl = DataLoader(dataset,\n",
        "                   batch_size,\n",
        "                   sampler=val_sampler)"
      ]
    },
    {
      "cell_type": "markdown",
      "metadata": {
        "id": "Kl1TvXQId7fF"
      },
      "source": [
        "Plot images in a sample batch of data."
      ]
    },
    {
      "cell_type": "code",
      "execution_count": null,
      "metadata": {
        "id": "W45yega0d7fF"
      },
      "outputs": [],
      "source": [
        "def show_batch(dl):\n",
        "    for images, labels in dl:\n",
        "        fig, ax = plt.subplots(figsize=(10,10))\n",
        "        ax.set_xticks([]); ax.set_yticks([])\n",
        "        ax.imshow(make_grid(images, 8).permute(1, 2, 0), cmap='Greys_r')\n",
        "        break"
      ]
    },
    {
      "cell_type": "code",
      "execution_count": null,
      "metadata": {
        "id": "q-bxq1y5d7fF",
        "colab": {
          "base_uri": "https://localhost:8080/",
          "height": 596
        },
        "outputId": "ae916aee-bd53-46b0-f368-fc43815b0178"
      },
      "outputs": [
        {
          "output_type": "stream",
          "name": "stderr",
          "text": [
            "Clipping input data to the valid range for imshow with RGB data ([0..1] for floats or [0..255] for integers).\n"
          ]
        },
        {
          "output_type": "display_data",
          "data": {
            "text/plain": [
              "<Figure size 720x720 with 1 Axes>"
            ],
            "image/png": "[encoded data removed]"
          },
          "metadata": {}
        }
      ],
      "source": [
        "show_batch(train_dl)"
      ]
    },
    {
      "cell_type": "markdown",
      "metadata": {
        "id": "icIsVMdXd7fG"
      },
      "source": [
        "## Question 2\n",
        "\n",
        "## Building the Model"
      ]
    },
    {
      "cell_type": "markdown",
      "metadata": {
        "id": "1swT2eKjd7fG"
      },
      "source": [
        "**Create your model by defining the network architecture in the `ImageClassifierNet` class.**  \n",
        "**NOTE:** The number of parameters in your network must be $\\leq$ 100,000."
      ]
    },
    {
      "cell_type": "code",
      "execution_count": null,
      "metadata": {
        "id": "yZhEfH2Pd7fG"
      },
      "outputs": [],
      "source": [
        "# Import the libraries\n",
        "import torch.nn as nn\n",
        "import torch.nn.functional as F\n",
        "\n",
        "from torchinfo import summary"
      ]
    },
    {
      "cell_type": "code",
      "execution_count": null,
      "metadata": {
        "id": "8yeVBIMzd7fG"
      },
      "outputs": [],
      "source": [
        "from matplotlib.cbook import flatten\n",
        "class ImageClassifierNet(nn.Module):\n",
        "    def __init__(self, n_channels=3):\n",
        "        super(ImageClassifierNet, self).__init__()\n",
        "        ######################\n",
        "        #   YOUR CODE HERE   #\n",
        "        ######################\n",
        "        # NO.1\n",
        "        self.conv1 = nn.Sequential(\n",
        "            nn.Conv2d(\n",
        "                in_channels = 1, #input feature map\n",
        "                out_channels = 8, ##output feature map\n",
        "                stride = 1,\n",
        "                padding=2,\n",
        "                kernel_size = 5\n",
        "            ), ## 1*28*28 -> 8*28*28\n",
        "            nn.ReLU(),\n",
        "            nn.BatchNorm2d(8),\n",
        "            nn.MaxPool2d(\n",
        "                kernel_size=2,\n",
        "                stride = 2,\n",
        "            ), # 8*28*28 -> 8*14*14\n",
        "        ) \n",
        "        #NO.2\n",
        "        self.conv2 = nn.Sequential(\n",
        "            nn.Conv2d(\n",
        "                stride=1,\n",
        "                padding = 2,\n",
        "                out_channels = 16,\n",
        "                kernel_size=3,\n",
        "                in_channels = 8\n",
        "            ), # 8*14*14 -> 16*16*16 \n",
        "            nn.ReLU(),\n",
        "            nn.BatchNorm2d(16),\n",
        "            nn.MaxPool2d(\n",
        "                kernel_size=2 #,\n",
        "                #stride=2\n",
        "            ), # 16*16*16 -> 16*8*8\n",
        "        )\n",
        "\n",
        "        self.classifier = nn.Sequential(\n",
        "            nn.Flatten(),\n",
        "            nn.Dropout(0.3),\n",
        "            nn.Linear(1024, 95), nn.ReLU(),\n",
        "            nn.Dropout(0.3),\n",
        "            #nn.Linear(1024, 131), nn.ReLU(),\n",
        "            nn.Linear(95, 10)\n",
        "        )\n",
        "\n",
        "\n",
        "        \n",
        "    def forward(self, X):\n",
        "        ######################\n",
        "        #   YOUR CODE HERE   #\n",
        "        ######################\n",
        "        X = self.conv1(X)\n",
        "        X = self.conv2(X)\n",
        "        return self.classifier(X)"
      ]
    },
    {
      "cell_type": "code",
      "execution_count": null,
      "metadata": {
        "id": "pb4smLb6d7fG",
        "colab": {
          "base_uri": "https://localhost:8080/"
        },
        "outputId": "886d3b17-d5e5-4f53-b036-d4e7ece83109"
      },
      "outputs": [
        {
          "output_type": "stream",
          "name": "stdout",
          "text": [
            "ImageClassifierNet(\n",
            "  (conv1): Sequential(\n",
            "    (0): Conv2d(1, 8, kernel_size=(5, 5), stride=(1, 1), padding=(2, 2))\n",
            "    (1): ReLU()\n",
            "    (2): BatchNorm2d(8, eps=1e-05, momentum=0.1, affine=True, track_running_stats=True)\n",
            "    (3): MaxPool2d(kernel_size=2, stride=2, padding=0, dilation=1, ceil_mode=False)\n",
            "  )\n",
            "  (conv2): Sequential(\n",
            "    (0): Conv2d(8, 16, kernel_size=(3, 3), stride=(1, 1), padding=(2, 2))\n",
            "    (1): ReLU()\n",
            "    (2): BatchNorm2d(16, eps=1e-05, momentum=0.1, affine=True, track_running_stats=True)\n",
            "    (3): MaxPool2d(kernel_size=2, stride=2, padding=0, dilation=1, ceil_mode=False)\n",
            "  )\n",
            "  (classifier): Sequential(\n",
            "    (0): Flatten(start_dim=1, end_dim=-1)\n",
            "    (1): Dropout(p=0.3, inplace=False)\n",
            "    (2): Linear(in_features=1024, out_features=95, bias=True)\n",
            "    (3): ReLU()\n",
            "    (4): Dropout(p=0.3, inplace=False)\n",
            "    (5): Linear(in_features=95, out_features=10, bias=True)\n",
            "  )\n",
            ")\n"
          ]
        }
      ],
      "source": [
        "model = ImageClassifierNet()\n",
        "print(model)"
      ]
    },
    {
      "cell_type": "markdown",
      "metadata": {
        "id": "jc7MAuPnd7fG"
      },
      "source": [
        "The following code block prints your network architecture. It also shows the total number of parameters in your network (see `Total params`).  \n",
        "\n",
        "**NOTE: The total number of parameters in your model should be <= 100,000.**"
      ]
    },
    {
      "cell_type": "code",
      "execution_count": null,
      "metadata": {
        "id": "1uxKLwc9d7fH",
        "colab": {
          "base_uri": "https://localhost:8080/"
        },
        "outputId": "5203c2e1-709f-4429-e600-6463d46f7d90"
      },
      "outputs": [
        {
          "output_type": "execute_result",
          "data": {
            "text/plain": [
              "==========================================================================================\n",
              "Layer (type:depth-idx)                   Output Shape              Param #\n",
              "==========================================================================================\n",
              "ImageClassifierNet                       --                        --\n",
              "├─Sequential: 1-1                        [256, 8, 14, 14]          --\n",
              "│    └─Conv2d: 2-1                       [256, 8, 28, 28]          208\n",
              "│    └─ReLU: 2-2                         [256, 8, 28, 28]          --\n",
              "│    └─BatchNorm2d: 2-3                  [256, 8, 28, 28]          16\n",
              "│    └─MaxPool2d: 2-4                    [256, 8, 14, 14]          --\n",
              "├─Sequential: 1-2                        [256, 16, 8, 8]           --\n",
              "│    └─Conv2d: 2-5                       [256, 16, 16, 16]         1,168\n",
              "│    └─ReLU: 2-6                         [256, 16, 16, 16]         --\n",
              "│    └─BatchNorm2d: 2-7                  [256, 16, 16, 16]         32\n",
              "│    └─MaxPool2d: 2-8                    [256, 16, 8, 8]           --\n",
              "├─Sequential: 1-3                        [256, 10]                 --\n",
              "│    └─Flatten: 2-9                      [256, 1024]               --\n",
              "│    └─Dropout: 2-10                     [256, 1024]               --\n",
              "│    └─Linear: 2-11                      [256, 95]                 97,375\n",
              "│    └─ReLU: 2-12                        [256, 95]                 --\n",
              "│    └─Dropout: 2-13                     [256, 95]                 --\n",
              "│    └─Linear: 2-14                      [256, 10]                 960\n",
              "==========================================================================================\n",
              "Total params: 99,759\n",
              "Trainable params: 99,759\n",
              "Non-trainable params: 0\n",
              "Total mult-adds (M): 143.48\n",
              "==========================================================================================\n",
              "Input size (MB): 0.80\n",
              "Forward/backward pass size (MB): 42.68\n",
              "Params size (MB): 0.40\n",
              "Estimated Total Size (MB): 43.88\n",
              "=========================================================================================="
            ]
          },
          "metadata": {},
          "execution_count": 23
        }
      ],
      "source": [
        "summary(model, input_size=(batch_size, 1, 28, 28))"
      ]
    },
    {
      "cell_type": "markdown",
      "metadata": {
        "id": "qVOq40u6d7fH"
      },
      "source": [
        "## Enable training on a GPU"
      ]
    },
    {
      "cell_type": "code",
      "execution_count": null,
      "metadata": {
        "id": "ClLoelbdd7fH"
      },
      "outputs": [],
      "source": [
        "def get_default_device():\n",
        "    \"\"\"Use GPU if available, else CPU\"\"\"\n",
        "    if torch.cuda.is_available():\n",
        "        return torch.device('cuda')\n",
        "    else:\n",
        "        return torch.device('cpu')\n",
        "\n",
        "def to_device(data, device):\n",
        "    \"\"\"Move tensor(s) to chosen device\"\"\"\n",
        "    if isinstance(data, (list,tuple)):\n",
        "        return [to_device(x, device) for x in data]\n",
        "    return data.to(device, non_blocking=True)\n",
        "\n",
        "class DeviceDataLoader():\n",
        "    \"\"\"Wrap a dataloader to move data to a device\"\"\"\n",
        "    def __init__(self, dl, device):\n",
        "        self.dl = dl\n",
        "        self.device = device\n",
        "    \n",
        "    def __iter__(self):\n",
        "        \"\"\"Yield a batch of data after moving it to device\"\"\"\n",
        "        for b in self.dl:\n",
        "            yield to_device(b, self.device)\n",
        "    \n",
        "    def __len__(self):\n",
        "        \"\"\"Number of batches\"\"\"\n",
        "        return len(self.dl)"
      ]
    },
    {
      "cell_type": "code",
      "execution_count": null,
      "metadata": {
        "id": "-HUYiRiFd7fH",
        "colab": {
          "base_uri": "https://localhost:8080/"
        },
        "outputId": "b6426ed2-f0e1-4f60-b4af-766b50830061"
      },
      "outputs": [
        {
          "output_type": "stream",
          "name": "stdout",
          "text": [
            "cuda\n"
          ]
        },
        {
          "output_type": "execute_result",
          "data": {
            "text/plain": [
              "ImageClassifierNet(\n",
              "  (conv1): Sequential(\n",
              "    (0): Conv2d(1, 8, kernel_size=(5, 5), stride=(1, 1), padding=(2, 2))\n",
              "    (1): ReLU()\n",
              "    (2): BatchNorm2d(8, eps=1e-05, momentum=0.1, affine=True, track_running_stats=True)\n",
              "    (3): MaxPool2d(kernel_size=2, stride=2, padding=0, dilation=1, ceil_mode=False)\n",
              "  )\n",
              "  (conv2): Sequential(\n",
              "    (0): Conv2d(8, 16, kernel_size=(3, 3), stride=(1, 1), padding=(2, 2))\n",
              "    (1): ReLU()\n",
              "    (2): BatchNorm2d(16, eps=1e-05, momentum=0.1, affine=True, track_running_stats=True)\n",
              "    (3): MaxPool2d(kernel_size=2, stride=2, padding=0, dilation=1, ceil_mode=False)\n",
              "  )\n",
              "  (classifier): Sequential(\n",
              "    (0): Flatten(start_dim=1, end_dim=-1)\n",
              "    (1): Dropout(p=0.3, inplace=False)\n",
              "    (2): Linear(in_features=1024, out_features=95, bias=True)\n",
              "    (3): ReLU()\n",
              "    (4): Dropout(p=0.3, inplace=False)\n",
              "    (5): Linear(in_features=95, out_features=10, bias=True)\n",
              "  )\n",
              ")"
            ]
          },
          "metadata": {},
          "execution_count": 25
        }
      ],
      "source": [
        "device = get_default_device()\n",
        "print(device)\n",
        "\n",
        "train_dl = DeviceDataLoader(train_dl, device)\n",
        "val_dl = DeviceDataLoader(val_dl, device)\n",
        "\n",
        "to_device(model, device)"
      ]
    },
    {
      "cell_type": "code",
      "source": [
        "class Accumulator: \n",
        "    def __init__(self, n):\n",
        "        self.data = [0.0] * n\n",
        "\n",
        "    def __getitem__(self, idx):\n",
        "        return self.data[idx]\n",
        "\n",
        "    def app(self, *args):\n",
        "        self.data = [a + float(b) for a, b in zip(self.data, args)]\n",
        "\n",
        "\n",
        "def accuracy(y_hat, y):  \n",
        "    if len(y_hat.shape) > 1 and y_hat.shape[1] > 1:\n",
        "        y_hat = y_hat.argmax(axis=1)\n",
        "    count = y_hat==y\n",
        "    return float(count.sum())\n",
        "\n",
        "#def weights_init(w):\n",
        "#  if type(w)==nn.Linear or type(w)==nn.Conv2d:\n",
        "#    nn.init.xavier_uniform_(w.weight)\n",
        "\n"
      ],
      "metadata": {
        "id": "BQHPIFnC229f"
      },
      "execution_count": null,
      "outputs": []
    },
    {
      "cell_type": "markdown",
      "metadata": {
        "id": "roV44CHdd7fH"
      },
      "source": [
        "## Question 3 \n",
        "\n",
        "## Train the model"
      ]
    },
    {
      "cell_type": "markdown",
      "metadata": {
        "id": "562yZnB8d7fI"
      },
      "source": [
        "**Complete the `train_model` function to train your model on a dataset. Tune your network architecture and hyperparameters on the validation set.**"
      ]
    },
    {
      "cell_type": "code",
      "source": [
        "def train_model(n_epochs, model, train_dl, val_dl, loss_fn, opt_fn, lr):\n",
        "    \"\"\"\n",
        "    Trains the model on a dataset.\n",
        "    \n",
        "    Args:\n",
        "        n_epochs: number of epochs\n",
        "        model: ImageClassifierNet object\n",
        "        train_dl: training dataloader\n",
        "        val_dl: validation dataloader\n",
        "        loss_fn: the loss function\n",
        "        opt_fn: the optimizer\n",
        "        lr: learning rate\n",
        "    \n",
        "    Returns:\n",
        "        The trained model. \n",
        "        A tuple of (model, train_losses, val_losses, train_accuracies, val_accuracies)\n",
        "    \"\"\"\n",
        "    #model.apply(weights_init)\n",
        "    print(\"Training...\")\n",
        "    #num_batches = len(train_dl)\n",
        "\n",
        "    for epoch in range(n_epochs):\n",
        "      if epoch == 10:\n",
        "        lr = 0.05 # Set the learning rate\n",
        "        opt_fn = torch.optim.SGD(model.parameters(), lr=lr, nesterov=True, momentum=0.9)\n",
        "      elif epoch == 20:\n",
        "        lr = 0.025 # Set the learning rate\n",
        "        opt_fn = torch.optim.SGD(model.parameters(), lr=lr, nesterov=True, momentum=0.9)\n",
        "      elif epoch == 40:\n",
        "        lr = 0.01\n",
        "        opt_fn = torch.optim.SGD(model.parameters(), lr=lr, nesterov=True, momentum=0.9)\n",
        "      elif epoch == 60:\n",
        "        lr = 0.005\n",
        "        opt_fn = torch.optim.SGD(model.parameters(), lr=lr, nesterov=True, momentum=0.9)\n",
        "    \n",
        "      model.train()\n",
        "      cal_train = Accumulator(3)\n",
        "      for X, y in train_dl:\n",
        "\n",
        "        opt_fn.zero_grad()\n",
        "        X, y = X.to(device), y.to(device)\n",
        "        y_hat = model(X)\n",
        "        loss_result = loss_fn(y_hat, y)\n",
        "        loss_result.backward()\n",
        "        opt_fn.step()\n",
        "        with torch.no_grad():\n",
        "          cal_train.app(loss_result * X.shape[0], accuracy(y_hat, y), X.shape[0])\n",
        "\n",
        "      model.eval()\n",
        "      cal_val = Accumulator(3)\n",
        "      with torch.no_grad():\n",
        "        for X, y in val_dl:\n",
        "          X = X.to(device)\n",
        "          y = y.to(device)\n",
        "          y_hat_ = model(X)\n",
        "          loss_result_ = loss_fn(y_hat_, y)\n",
        "          cal_val.app(loss_result_ * X.shape[0], accuracy(y_hat_, y), X.shape[0])\n",
        "    \n",
        "      train_loss, train_accuracy = cal_train[0] / cal_train[2], cal_train[1] / cal_train[2]\n",
        "      if len(val_dl) != 0:\n",
        "        val_loss, val_accuracy = cal_val[0] / cal_val[2], cal_val[1] / cal_val[2]\n",
        "        print(f'epoch={epoch:.3f}, train_accuracy={train_accuracy:.3f}, val_accuracy={val_accuracy:.3f}, train_loss={train_loss:.3f}, val_loss={val_loss:.3f}, lr={lr:.3f}')\n",
        "      else:\n",
        "        val_loss, val_accuracy = 0, 0\n",
        "        print(f'epoch={epoch:.3f}, train_accuracy={train_accuracy:.3f}, train_loss={train_loss:.3f}, lr={lr:.3f}')\n",
        "      \n",
        "\n",
        "    print(\"Training Completed!\")\n",
        "    return (model, train_loss, val_loss, train_accuracy, val_accuracy)\n",
        "\n",
        "\n",
        "def model_warmup(n_epochs, model, train_dl, val_dl):\n",
        "  loss_fn = nn.CrossEntropyLoss()\n",
        "  opt_fn = torch.optim.SGD(model.parameters(), lr=0.1, nesterov=True, momentum=0.9)\n",
        "  print(\"Warmup ...\")\n",
        "\n",
        "  def weights_init(m):\n",
        "    if type(m) in [nn.Linear, nn.Conv2d]:\n",
        "      nn.init.xavier_uniform_(m.weight)\n",
        "  #initialization first\n",
        "  model.apply(weights_init)\n",
        "\n",
        "  for epoch in range(n_epochs):\n",
        "    model.train()\n",
        "    cal_train = Accumulator(3)\n",
        "    for X, y in train_dl:\n",
        "      opt_fn.zero_grad()\n",
        "      X, y = X.to(device), y.to(device)\n",
        "      y_hat = model(X)\n",
        "      loss_result = loss_fn(y_hat, y)\n",
        "      loss_result.backward()\n",
        "      opt_fn.step()\n",
        "      with torch.no_grad():\n",
        "        cal_train.app(loss_result * X.shape[0], accuracy(y_hat, y), X.shape[0])\n",
        "\n",
        "    model.eval()\n",
        "    cal_val = Accumulator(3)\n",
        "    with torch.no_grad():\n",
        "      for X, y in val_dl:\n",
        "        X = X.to(device)\n",
        "        y = y.to(device)\n",
        "        y_hat_ = model(X)\n",
        "        loss_result_ = loss_fn(y_hat_, y)\n",
        "        cal_val.app(loss_result_ * X.shape[0], accuracy(y_hat_, y), X.shape[0])\n",
        "    \n",
        "    train_loss, train_accuracy = cal_train[0] / cal_train[2], cal_train[1] / cal_train[2]\n",
        "    if len(val_dl) != 0:\n",
        "      val_loss, val_accuracy = cal_val[0] / cal_val[2], cal_val[1] / cal_val[2]\n",
        "      print(f'epoch={epoch:.3f}, train_accuracy={train_accuracy:.3f}, val_accuracy={val_accuracy:.3f}, train_loss={train_loss:.3f}, val_loss={val_loss:.3f}')\n",
        "    else:\n",
        "      val_loss, val_accuracy = 0, 0\n",
        "      print(f'epoch={epoch:.3f}, train_accuracy={train_accuracy:.3f}, train_loss={train_loss:.3f}')    \n",
        "  print(\"Warmup Completes!\")\n"
      ],
      "metadata": {
        "id": "PkH57wXa4Frm"
      },
      "execution_count": null,
      "outputs": []
    },
    {
      "cell_type": "markdown",
      "metadata": {
        "id": "d8SYcymDd7fI"
      },
      "source": [
        "**Set the maximum number of training epochs, the loss function, the optimizer, and the learning rate.**"
      ]
    },
    {
      "cell_type": "code",
      "execution_count": null,
      "metadata": {
        "id": "s7JV-ovUd7fI",
        "colab": {
          "base_uri": "https://localhost:8080/"
        },
        "outputId": "e3858f92-6c74-4140-fc29-3c4459c4361c"
      },
      "outputs": [
        {
          "output_type": "stream",
          "name": "stdout",
          "text": [
            "Warmup ...\n",
            "epoch=0.000, train_accuracy=0.752, val_accuracy=0.846, train_loss=0.700, val_loss=0.407\n",
            "epoch=1.000, train_accuracy=0.825, val_accuracy=0.867, train_loss=0.477, val_loss=0.349\n",
            "epoch=2.000, train_accuracy=0.844, val_accuracy=0.857, train_loss=0.429, val_loss=0.359\n",
            "epoch=3.000, train_accuracy=0.853, val_accuracy=0.885, train_loss=0.402, val_loss=0.302\n",
            "epoch=4.000, train_accuracy=0.860, val_accuracy=0.876, train_loss=0.381, val_loss=0.322\n",
            "epoch=5.000, train_accuracy=0.864, val_accuracy=0.896, train_loss=0.370, val_loss=0.277\n",
            "epoch=6.000, train_accuracy=0.870, val_accuracy=0.892, train_loss=0.354, val_loss=0.273\n",
            "epoch=7.000, train_accuracy=0.872, val_accuracy=0.888, train_loss=0.348, val_loss=0.292\n",
            "epoch=8.000, train_accuracy=0.876, val_accuracy=0.896, train_loss=0.340, val_loss=0.271\n",
            "epoch=9.000, train_accuracy=0.877, val_accuracy=0.900, train_loss=0.333, val_loss=0.262\n",
            "Warmup Completes!\n"
          ]
        }
      ],
      "source": [
        "######################\n",
        "#   YOUR CODE HERE   #\n",
        "######################\n",
        "#warmup first\n",
        "model_warmup(10, model, train_dl, val_dl)\n"
      ]
    },
    {
      "cell_type": "code",
      "source": [
        ""
      ],
      "metadata": {
        "id": "hFwCvnKhtcxU"
      },
      "execution_count": null,
      "outputs": []
    },
    {
      "cell_type": "code",
      "source": [
        ""
      ],
      "metadata": {
        "id": "rIHZ9qrFtd_h"
      },
      "execution_count": null,
      "outputs": []
    },
    {
      "cell_type": "code",
      "source": [
        "# train\n",
        "num_epochs = 80 # Max number of training epochs\n",
        "loss_fn = nn.CrossEntropyLoss() # Define the loss function\n",
        "lr = 0.08 # Set the learning rate\n",
        "opt_fn = torch.optim.SGD(model.parameters(), lr=lr, nesterov=True, momentum=0.9)\n",
        "history = train_model(num_epochs, model, train_dl, val_dl, loss_fn, opt_fn, lr)\n",
        "# (Optional)\n",
        "# Once training is finished, save model as .pth and avoid retraining for the following blocks\n",
        "path = \"last model.pth\"\n",
        "torch.save(model, path)"
      ],
      "metadata": {
        "colab": {
          "base_uri": "https://localhost:8080/"
        },
        "id": "BbbmzdYhCyU3",
        "outputId": "907f4fbb-533b-4f97-b8d5-29a9e1eb4ce6"
      },
      "execution_count": null,
      "outputs": [
        {
          "output_type": "stream",
          "name": "stdout",
          "text": [
            "Training...\n",
            "epoch=0.000, train_accuracy=0.884, val_accuracy=0.894, train_loss=0.319, val_loss=0.280, lr=0.080\n",
            "epoch=1.000, train_accuracy=0.884, val_accuracy=0.909, train_loss=0.315, val_loss=0.247, lr=0.080\n",
            "epoch=2.000, train_accuracy=0.886, val_accuracy=0.910, train_loss=0.310, val_loss=0.240, lr=0.080\n",
            "epoch=3.000, train_accuracy=0.889, val_accuracy=0.902, train_loss=0.304, val_loss=0.251, lr=0.080\n",
            "epoch=4.000, train_accuracy=0.889, val_accuracy=0.909, train_loss=0.302, val_loss=0.243, lr=0.080\n",
            "epoch=5.000, train_accuracy=0.890, val_accuracy=0.911, train_loss=0.297, val_loss=0.237, lr=0.080\n",
            "epoch=6.000, train_accuracy=0.892, val_accuracy=0.908, train_loss=0.290, val_loss=0.243, lr=0.080\n",
            "epoch=7.000, train_accuracy=0.893, val_accuracy=0.912, train_loss=0.291, val_loss=0.232, lr=0.080\n",
            "epoch=8.000, train_accuracy=0.895, val_accuracy=0.916, train_loss=0.286, val_loss=0.230, lr=0.080\n",
            "epoch=9.000, train_accuracy=0.896, val_accuracy=0.912, train_loss=0.282, val_loss=0.225, lr=0.080\n",
            "epoch=10.000, train_accuracy=0.901, val_accuracy=0.917, train_loss=0.270, val_loss=0.224, lr=0.050\n",
            "epoch=11.000, train_accuracy=0.902, val_accuracy=0.918, train_loss=0.268, val_loss=0.225, lr=0.050\n",
            "epoch=12.000, train_accuracy=0.902, val_accuracy=0.920, train_loss=0.263, val_loss=0.213, lr=0.050\n",
            "epoch=13.000, train_accuracy=0.902, val_accuracy=0.921, train_loss=0.263, val_loss=0.217, lr=0.050\n",
            "epoch=14.000, train_accuracy=0.904, val_accuracy=0.922, train_loss=0.260, val_loss=0.214, lr=0.050\n",
            "epoch=15.000, train_accuracy=0.904, val_accuracy=0.921, train_loss=0.256, val_loss=0.210, lr=0.050\n",
            "epoch=16.000, train_accuracy=0.906, val_accuracy=0.921, train_loss=0.254, val_loss=0.213, lr=0.050\n",
            "epoch=17.000, train_accuracy=0.905, val_accuracy=0.923, train_loss=0.257, val_loss=0.210, lr=0.050\n",
            "epoch=18.000, train_accuracy=0.905, val_accuracy=0.923, train_loss=0.256, val_loss=0.208, lr=0.050\n",
            "epoch=19.000, train_accuracy=0.906, val_accuracy=0.919, train_loss=0.253, val_loss=0.213, lr=0.050\n",
            "epoch=20.000, train_accuracy=0.911, val_accuracy=0.923, train_loss=0.241, val_loss=0.208, lr=0.025\n",
            "epoch=21.000, train_accuracy=0.911, val_accuracy=0.924, train_loss=0.238, val_loss=0.211, lr=0.025\n",
            "epoch=22.000, train_accuracy=0.911, val_accuracy=0.925, train_loss=0.237, val_loss=0.207, lr=0.025\n",
            "epoch=23.000, train_accuracy=0.910, val_accuracy=0.924, train_loss=0.238, val_loss=0.209, lr=0.025\n",
            "epoch=24.000, train_accuracy=0.911, val_accuracy=0.925, train_loss=0.237, val_loss=0.204, lr=0.025\n",
            "epoch=25.000, train_accuracy=0.910, val_accuracy=0.925, train_loss=0.237, val_loss=0.207, lr=0.025\n",
            "epoch=26.000, train_accuracy=0.912, val_accuracy=0.924, train_loss=0.236, val_loss=0.207, lr=0.025\n",
            "epoch=27.000, train_accuracy=0.914, val_accuracy=0.926, train_loss=0.230, val_loss=0.202, lr=0.025\n",
            "epoch=28.000, train_accuracy=0.914, val_accuracy=0.927, train_loss=0.234, val_loss=0.200, lr=0.025\n",
            "epoch=29.000, train_accuracy=0.912, val_accuracy=0.928, train_loss=0.236, val_loss=0.202, lr=0.025\n",
            "epoch=30.000, train_accuracy=0.913, val_accuracy=0.926, train_loss=0.232, val_loss=0.201, lr=0.025\n",
            "epoch=31.000, train_accuracy=0.913, val_accuracy=0.925, train_loss=0.232, val_loss=0.204, lr=0.025\n",
            "epoch=32.000, train_accuracy=0.914, val_accuracy=0.926, train_loss=0.233, val_loss=0.204, lr=0.025\n",
            "epoch=33.000, train_accuracy=0.915, val_accuracy=0.924, train_loss=0.228, val_loss=0.204, lr=0.025\n",
            "epoch=34.000, train_accuracy=0.915, val_accuracy=0.929, train_loss=0.230, val_loss=0.199, lr=0.025\n",
            "epoch=35.000, train_accuracy=0.916, val_accuracy=0.928, train_loss=0.224, val_loss=0.202, lr=0.025\n",
            "epoch=36.000, train_accuracy=0.915, val_accuracy=0.929, train_loss=0.230, val_loss=0.198, lr=0.025\n",
            "epoch=37.000, train_accuracy=0.916, val_accuracy=0.927, train_loss=0.226, val_loss=0.200, lr=0.025\n",
            "epoch=38.000, train_accuracy=0.915, val_accuracy=0.926, train_loss=0.228, val_loss=0.201, lr=0.025\n",
            "epoch=39.000, train_accuracy=0.916, val_accuracy=0.925, train_loss=0.227, val_loss=0.199, lr=0.025\n",
            "epoch=40.000, train_accuracy=0.919, val_accuracy=0.929, train_loss=0.219, val_loss=0.198, lr=0.010\n",
            "epoch=41.000, train_accuracy=0.918, val_accuracy=0.930, train_loss=0.218, val_loss=0.194, lr=0.010\n",
            "epoch=42.000, train_accuracy=0.918, val_accuracy=0.927, train_loss=0.217, val_loss=0.196, lr=0.010\n",
            "epoch=43.000, train_accuracy=0.920, val_accuracy=0.930, train_loss=0.218, val_loss=0.194, lr=0.010\n",
            "epoch=44.000, train_accuracy=0.919, val_accuracy=0.932, train_loss=0.217, val_loss=0.194, lr=0.010\n",
            "epoch=45.000, train_accuracy=0.920, val_accuracy=0.932, train_loss=0.215, val_loss=0.193, lr=0.010\n",
            "epoch=46.000, train_accuracy=0.918, val_accuracy=0.930, train_loss=0.216, val_loss=0.198, lr=0.010\n",
            "epoch=47.000, train_accuracy=0.920, val_accuracy=0.927, train_loss=0.215, val_loss=0.196, lr=0.010\n",
            "epoch=48.000, train_accuracy=0.920, val_accuracy=0.929, train_loss=0.214, val_loss=0.193, lr=0.010\n",
            "epoch=49.000, train_accuracy=0.920, val_accuracy=0.930, train_loss=0.215, val_loss=0.191, lr=0.010\n",
            "epoch=50.000, train_accuracy=0.920, val_accuracy=0.930, train_loss=0.214, val_loss=0.196, lr=0.010\n",
            "epoch=51.000, train_accuracy=0.919, val_accuracy=0.930, train_loss=0.217, val_loss=0.191, lr=0.010\n",
            "epoch=52.000, train_accuracy=0.919, val_accuracy=0.929, train_loss=0.216, val_loss=0.200, lr=0.010\n",
            "epoch=53.000, train_accuracy=0.920, val_accuracy=0.930, train_loss=0.214, val_loss=0.195, lr=0.010\n",
            "epoch=54.000, train_accuracy=0.922, val_accuracy=0.931, train_loss=0.211, val_loss=0.193, lr=0.010\n",
            "epoch=55.000, train_accuracy=0.921, val_accuracy=0.930, train_loss=0.211, val_loss=0.192, lr=0.010\n",
            "epoch=56.000, train_accuracy=0.921, val_accuracy=0.927, train_loss=0.210, val_loss=0.196, lr=0.010\n",
            "epoch=57.000, train_accuracy=0.919, val_accuracy=0.931, train_loss=0.216, val_loss=0.194, lr=0.010\n",
            "epoch=58.000, train_accuracy=0.920, val_accuracy=0.932, train_loss=0.213, val_loss=0.192, lr=0.010\n",
            "epoch=59.000, train_accuracy=0.920, val_accuracy=0.930, train_loss=0.212, val_loss=0.195, lr=0.010\n",
            "epoch=60.000, train_accuracy=0.922, val_accuracy=0.929, train_loss=0.210, val_loss=0.195, lr=0.005\n",
            "epoch=61.000, train_accuracy=0.923, val_accuracy=0.931, train_loss=0.206, val_loss=0.193, lr=0.005\n",
            "epoch=62.000, train_accuracy=0.922, val_accuracy=0.933, train_loss=0.207, val_loss=0.191, lr=0.005\n",
            "epoch=63.000, train_accuracy=0.923, val_accuracy=0.929, train_loss=0.208, val_loss=0.198, lr=0.005\n",
            "epoch=64.000, train_accuracy=0.923, val_accuracy=0.932, train_loss=0.209, val_loss=0.191, lr=0.005\n",
            "epoch=65.000, train_accuracy=0.922, val_accuracy=0.932, train_loss=0.209, val_loss=0.192, lr=0.005\n",
            "epoch=66.000, train_accuracy=0.921, val_accuracy=0.933, train_loss=0.210, val_loss=0.190, lr=0.005\n",
            "epoch=67.000, train_accuracy=0.921, val_accuracy=0.931, train_loss=0.208, val_loss=0.193, lr=0.005\n",
            "epoch=68.000, train_accuracy=0.922, val_accuracy=0.929, train_loss=0.211, val_loss=0.193, lr=0.005\n",
            "epoch=69.000, train_accuracy=0.923, val_accuracy=0.929, train_loss=0.207, val_loss=0.193, lr=0.005\n",
            "epoch=70.000, train_accuracy=0.923, val_accuracy=0.930, train_loss=0.207, val_loss=0.193, lr=0.005\n",
            "epoch=71.000, train_accuracy=0.922, val_accuracy=0.932, train_loss=0.204, val_loss=0.191, lr=0.005\n",
            "epoch=72.000, train_accuracy=0.921, val_accuracy=0.931, train_loss=0.208, val_loss=0.193, lr=0.005\n",
            "epoch=73.000, train_accuracy=0.923, val_accuracy=0.934, train_loss=0.203, val_loss=0.190, lr=0.005\n",
            "epoch=74.000, train_accuracy=0.922, val_accuracy=0.935, train_loss=0.209, val_loss=0.189, lr=0.005\n",
            "epoch=75.000, train_accuracy=0.923, val_accuracy=0.932, train_loss=0.204, val_loss=0.191, lr=0.005\n",
            "epoch=76.000, train_accuracy=0.922, val_accuracy=0.933, train_loss=0.208, val_loss=0.189, lr=0.005\n",
            "epoch=77.000, train_accuracy=0.924, val_accuracy=0.930, train_loss=0.202, val_loss=0.191, lr=0.005\n",
            "epoch=78.000, train_accuracy=0.923, val_accuracy=0.929, train_loss=0.205, val_loss=0.191, lr=0.005\n",
            "epoch=79.000, train_accuracy=0.923, val_accuracy=0.931, train_loss=0.204, val_loss=0.191, lr=0.005\n",
            "epoch=80.000, train_accuracy=0.921, val_accuracy=0.931, train_loss=0.207, val_loss=0.189, lr=0.005\n",
            "epoch=81.000, train_accuracy=0.922, val_accuracy=0.931, train_loss=0.204, val_loss=0.191, lr=0.005\n",
            "epoch=82.000, train_accuracy=0.923, val_accuracy=0.932, train_loss=0.206, val_loss=0.191, lr=0.005\n",
            "epoch=83.000, train_accuracy=0.925, val_accuracy=0.932, train_loss=0.204, val_loss=0.189, lr=0.005\n",
            "epoch=84.000, train_accuracy=0.924, val_accuracy=0.932, train_loss=0.203, val_loss=0.193, lr=0.005\n",
            "epoch=85.000, train_accuracy=0.923, val_accuracy=0.931, train_loss=0.206, val_loss=0.192, lr=0.005\n",
            "epoch=86.000, train_accuracy=0.922, val_accuracy=0.931, train_loss=0.206, val_loss=0.195, lr=0.005\n",
            "epoch=87.000, train_accuracy=0.925, val_accuracy=0.931, train_loss=0.201, val_loss=0.189, lr=0.005\n",
            "epoch=88.000, train_accuracy=0.924, val_accuracy=0.932, train_loss=0.202, val_loss=0.191, lr=0.005\n",
            "epoch=89.000, train_accuracy=0.924, val_accuracy=0.930, train_loss=0.203, val_loss=0.192, lr=0.005\n",
            "epoch=90.000, train_accuracy=0.924, val_accuracy=0.929, train_loss=0.206, val_loss=0.190, lr=0.005\n",
            "epoch=91.000, train_accuracy=0.921, val_accuracy=0.931, train_loss=0.206, val_loss=0.188, lr=0.005\n",
            "epoch=92.000, train_accuracy=0.924, val_accuracy=0.931, train_loss=0.205, val_loss=0.193, lr=0.005\n",
            "epoch=93.000, train_accuracy=0.924, val_accuracy=0.933, train_loss=0.204, val_loss=0.192, lr=0.005\n",
            "epoch=94.000, train_accuracy=0.925, val_accuracy=0.931, train_loss=0.204, val_loss=0.191, lr=0.005\n",
            "epoch=95.000, train_accuracy=0.924, val_accuracy=0.933, train_loss=0.200, val_loss=0.190, lr=0.005\n",
            "epoch=96.000, train_accuracy=0.922, val_accuracy=0.931, train_loss=0.206, val_loss=0.192, lr=0.005\n",
            "epoch=97.000, train_accuracy=0.924, val_accuracy=0.932, train_loss=0.201, val_loss=0.193, lr=0.005\n",
            "epoch=98.000, train_accuracy=0.924, val_accuracy=0.932, train_loss=0.203, val_loss=0.189, lr=0.005\n",
            "epoch=99.000, train_accuracy=0.924, val_accuracy=0.932, train_loss=0.202, val_loss=0.190, lr=0.005\n",
            "epoch=100.000, train_accuracy=0.924, val_accuracy=0.934, train_loss=0.202, val_loss=0.188, lr=0.005\n",
            "epoch=101.000, train_accuracy=0.923, val_accuracy=0.931, train_loss=0.204, val_loss=0.188, lr=0.005\n",
            "epoch=102.000, train_accuracy=0.925, val_accuracy=0.931, train_loss=0.203, val_loss=0.187, lr=0.005\n",
            "epoch=103.000, train_accuracy=0.924, val_accuracy=0.933, train_loss=0.201, val_loss=0.189, lr=0.005\n",
            "epoch=104.000, train_accuracy=0.925, val_accuracy=0.933, train_loss=0.202, val_loss=0.188, lr=0.005\n",
            "epoch=105.000, train_accuracy=0.924, val_accuracy=0.932, train_loss=0.202, val_loss=0.188, lr=0.005\n",
            "epoch=106.000, train_accuracy=0.925, val_accuracy=0.931, train_loss=0.203, val_loss=0.191, lr=0.005\n",
            "epoch=107.000, train_accuracy=0.925, val_accuracy=0.933, train_loss=0.203, val_loss=0.190, lr=0.005\n",
            "epoch=108.000, train_accuracy=0.925, val_accuracy=0.934, train_loss=0.201, val_loss=0.188, lr=0.005\n",
            "epoch=109.000, train_accuracy=0.924, val_accuracy=0.933, train_loss=0.203, val_loss=0.191, lr=0.005\n",
            "epoch=110.000, train_accuracy=0.923, val_accuracy=0.931, train_loss=0.205, val_loss=0.191, lr=0.005\n",
            "epoch=111.000, train_accuracy=0.924, val_accuracy=0.931, train_loss=0.202, val_loss=0.192, lr=0.005\n",
            "epoch=112.000, train_accuracy=0.926, val_accuracy=0.931, train_loss=0.200, val_loss=0.190, lr=0.005\n",
            "epoch=113.000, train_accuracy=0.924, val_accuracy=0.932, train_loss=0.202, val_loss=0.191, lr=0.005\n",
            "epoch=114.000, train_accuracy=0.925, val_accuracy=0.933, train_loss=0.200, val_loss=0.192, lr=0.005\n",
            "epoch=115.000, train_accuracy=0.925, val_accuracy=0.933, train_loss=0.201, val_loss=0.189, lr=0.005\n",
            "epoch=116.000, train_accuracy=0.923, val_accuracy=0.930, train_loss=0.203, val_loss=0.191, lr=0.005\n",
            "epoch=117.000, train_accuracy=0.925, val_accuracy=0.930, train_loss=0.200, val_loss=0.191, lr=0.005\n",
            "epoch=118.000, train_accuracy=0.925, val_accuracy=0.933, train_loss=0.198, val_loss=0.188, lr=0.005\n",
            "epoch=119.000, train_accuracy=0.923, val_accuracy=0.932, train_loss=0.202, val_loss=0.188, lr=0.005\n",
            "Training Completed!\n"
          ]
        }
      ]
    },
    {
      "cell_type": "code",
      "source": [
        "def e_train_model(n_epochs, model, train_dl, val_dl, loss_fn, opt_fn, lr):\n",
        "    \"\"\"\n",
        "    Trains the model on a dataset.\n",
        "    \n",
        "    Args:\n",
        "        n_epochs: number of epochs\n",
        "        model: ImageClassifierNet object\n",
        "        train_dl: training dataloader\n",
        "        val_dl: validation dataloader\n",
        "        loss_fn: the loss function\n",
        "        opt_fn: the optimizer\n",
        "        lr: learning rate\n",
        "    \n",
        "    Returns:\n",
        "        The trained model. \n",
        "        A tuple of (model, train_losses, val_losses, train_accuracies, val_accuracies)\n",
        "    \"\"\"\n",
        "    #model.apply(weights_init)\n",
        "    print(\"Enhanced Training...\")\n",
        "    #num_batches = len(train_dl)\n",
        "\n",
        "    for epoch in range(n_epochs):\n",
        "      model.train()\n",
        "      cal_train = Accumulator(3)\n",
        "      for X, y in train_dl:\n",
        "\n",
        "        opt_fn.zero_grad()\n",
        "        X, y = X.to(device), y.to(device)\n",
        "        y_hat = model(X)\n",
        "        loss_result = loss_fn(y_hat, y)\n",
        "        loss_result.backward()\n",
        "        opt_fn.step()\n",
        "        with torch.no_grad():\n",
        "          cal_train.app(loss_result * X.shape[0], accuracy(y_hat, y), X.shape[0])\n",
        "\n",
        "      model.eval()\n",
        "      cal_val = Accumulator(3)\n",
        "      with torch.no_grad():\n",
        "        for X, y in val_dl:\n",
        "          X = X.to(device)\n",
        "          y = y.to(device)\n",
        "          y_hat_ = model(X)\n",
        "          loss_result_ = loss_fn(y_hat_, y)\n",
        "          cal_val.app(loss_result_ * X.shape[0], accuracy(y_hat_, y), X.shape[0])\n",
        "    \n",
        "      train_loss, train_accuracy = cal_train[0] / cal_train[2], cal_train[1] / cal_train[2]\n",
        "      if len(val_dl) != 0:\n",
        "        val_loss, val_accuracy = cal_val[0] / cal_val[2], cal_val[1] / cal_val[2]\n",
        "        print(f'epoch={epoch:.3f}, train_accuracy={train_accuracy:.3f}, val_accuracy={val_accuracy:.3f}, train_loss={train_loss:.3f}, val_loss={val_loss:.3f}, lr={lr:.3f}')\n",
        "      else:\n",
        "        val_loss, val_accuracy = 0, 0\n",
        "        print(f'epoch={epoch:.3f}, train_accuracy={train_accuracy:.3f}, train_loss={train_loss:.3f}, lr={lr:.3f}')\n",
        "      \n",
        "\n",
        "    print(\"Training Completed!\")\n",
        "    return (model, train_loss, val_loss, train_accuracy, val_accuracy)\n"
      ],
      "metadata": {
        "id": "owH4SdBEtepg"
      },
      "execution_count": null,
      "outputs": []
    },
    {
      "cell_type": "code",
      "source": [
        "\n",
        "# E train\n",
        "num_epochs = 20 # Max number of training epochs\n",
        "loss_fn = nn.CrossEntropyLoss() # Define the loss function\n",
        "lr = 0.001 # Set the learning rate\n",
        "opt_fn = torch.optim.SGD(model.parameters(), lr=lr, nesterov=True, momentum=0.9)\n",
        "history = e_train_model(num_epochs, model, train_dl, val_dl, loss_fn, opt_fn, lr)\n",
        "# (Optional)\n",
        "# Once training is finished, save model as .pth and avoid retraining for the following blocks\n",
        "path = \"last_model.pth\"\n",
        "torch.save(model, path)\n",
        "\n",
        "from google.colab import files\n",
        "# download checkpoint file\n",
        "files.download(path)"
      ],
      "metadata": {
        "id": "wNt-r92upEH3",
        "colab": {
          "base_uri": "https://localhost:8080/"
        },
        "outputId": "43b7f044-8569-404c-b80c-e7a36398a680"
      },
      "execution_count": null,
      "outputs": [
        {
          "output_type": "stream",
          "name": "stdout",
          "text": [
            "Enhanced Training...\n",
            "epoch=0.000, train_accuracy=0.926, val_accuracy=0.932, train_loss=0.198, val_loss=0.189, lr=0.001\n",
            "epoch=1.000, train_accuracy=0.926, val_accuracy=0.933, train_loss=0.198, val_loss=0.189, lr=0.001\n",
            "epoch=2.000, train_accuracy=0.926, val_accuracy=0.933, train_loss=0.197, val_loss=0.187, lr=0.001\n",
            "epoch=3.000, train_accuracy=0.926, val_accuracy=0.933, train_loss=0.198, val_loss=0.189, lr=0.001\n",
            "epoch=4.000, train_accuracy=0.926, val_accuracy=0.930, train_loss=0.199, val_loss=0.192, lr=0.001\n",
            "epoch=5.000, train_accuracy=0.927, val_accuracy=0.933, train_loss=0.198, val_loss=0.184, lr=0.001\n",
            "epoch=6.000, train_accuracy=0.924, val_accuracy=0.932, train_loss=0.200, val_loss=0.188, lr=0.001\n",
            "epoch=7.000, train_accuracy=0.925, val_accuracy=0.932, train_loss=0.196, val_loss=0.189, lr=0.001\n",
            "epoch=8.000, train_accuracy=0.925, val_accuracy=0.933, train_loss=0.199, val_loss=0.187, lr=0.001\n",
            "epoch=9.000, train_accuracy=0.927, val_accuracy=0.931, train_loss=0.197, val_loss=0.191, lr=0.001\n",
            "epoch=10.000, train_accuracy=0.924, val_accuracy=0.933, train_loss=0.200, val_loss=0.187, lr=0.001\n",
            "epoch=11.000, train_accuracy=0.927, val_accuracy=0.932, train_loss=0.196, val_loss=0.189, lr=0.001\n",
            "epoch=12.000, train_accuracy=0.925, val_accuracy=0.932, train_loss=0.199, val_loss=0.191, lr=0.001\n",
            "epoch=13.000, train_accuracy=0.927, val_accuracy=0.933, train_loss=0.195, val_loss=0.187, lr=0.001\n",
            "epoch=14.000, train_accuracy=0.926, val_accuracy=0.931, train_loss=0.196, val_loss=0.190, lr=0.001\n",
            "epoch=15.000, train_accuracy=0.927, val_accuracy=0.931, train_loss=0.196, val_loss=0.187, lr=0.001\n",
            "epoch=16.000, train_accuracy=0.927, val_accuracy=0.931, train_loss=0.199, val_loss=0.189, lr=0.001\n",
            "epoch=17.000, train_accuracy=0.925, val_accuracy=0.933, train_loss=0.202, val_loss=0.189, lr=0.001\n",
            "epoch=18.000, train_accuracy=0.926, val_accuracy=0.931, train_loss=0.197, val_loss=0.186, lr=0.001\n",
            "epoch=19.000, train_accuracy=0.925, val_accuracy=0.933, train_loss=0.196, val_loss=0.188, lr=0.001\n",
            "Training Completed!\n"
          ]
        }
      ]
    },
    {
      "cell_type": "code",
      "execution_count": null,
      "metadata": {
        "id": "6xNY7i618T7w",
        "colab": {
          "base_uri": "https://localhost:8080/"
        },
        "outputId": "a80ce6bd-7249-484c-8147-078cfd90952d"
      },
      "outputs": [
        {
          "output_type": "stream",
          "name": "stdout",
          "text": [
            "0.1964704153060913 0.18786530756354333 0.92504 0.933\n",
            "before: (ImageClassifierNet(\n",
            "  (conv1): Sequential(\n",
            "    (0): Conv2d(1, 8, kernel_size=(5, 5), stride=(1, 1), padding=(2, 2))\n",
            "    (1): ReLU()\n",
            "    (2): BatchNorm2d(8, eps=1e-05, momentum=0.1, affine=True, track_running_stats=True)\n",
            "    (3): MaxPool2d(kernel_size=2, stride=2, padding=0, dilation=1, ceil_mode=False)\n",
            "  )\n",
            "  (conv2): Sequential(\n",
            "    (0): Conv2d(8, 16, kernel_size=(3, 3), stride=(1, 1), padding=(2, 2))\n",
            "    (1): ReLU()\n",
            "    (2): BatchNorm2d(16, eps=1e-05, momentum=0.1, affine=True, track_running_stats=True)\n",
            "    (3): MaxPool2d(kernel_size=2, stride=2, padding=0, dilation=1, ceil_mode=False)\n",
            "  )\n",
            "  (classifier): Sequential(\n",
            "    (0): Flatten(start_dim=1, end_dim=-1)\n",
            "    (1): Dropout(p=0.3, inplace=False)\n",
            "    (2): Linear(in_features=1024, out_features=95, bias=True)\n",
            "    (3): ReLU()\n",
            "    (4): Dropout(p=0.3, inplace=False)\n",
            "    (5): Linear(in_features=95, out_features=10, bias=True)\n",
            "  )\n",
            "), 0.1964704153060913, 0.18786530756354333, 0.92504, 0.933)\n",
            "after: ImageClassifierNet(\n",
            "  (conv1): Sequential(\n",
            "    (0): Conv2d(1, 8, kernel_size=(5, 5), stride=(1, 1), padding=(2, 2))\n",
            "    (1): ReLU()\n",
            "    (2): BatchNorm2d(8, eps=1e-05, momentum=0.1, affine=True, track_running_stats=True)\n",
            "    (3): MaxPool2d(kernel_size=2, stride=2, padding=0, dilation=1, ceil_mode=False)\n",
            "  )\n",
            "  (conv2): Sequential(\n",
            "    (0): Conv2d(8, 16, kernel_size=(3, 3), stride=(1, 1), padding=(2, 2))\n",
            "    (1): ReLU()\n",
            "    (2): BatchNorm2d(16, eps=1e-05, momentum=0.1, affine=True, track_running_stats=True)\n",
            "    (3): MaxPool2d(kernel_size=2, stride=2, padding=0, dilation=1, ceil_mode=False)\n",
            "  )\n",
            "  (classifier): Sequential(\n",
            "    (0): Flatten(start_dim=1, end_dim=-1)\n",
            "    (1): Dropout(p=0.3, inplace=False)\n",
            "    (2): Linear(in_features=1024, out_features=95, bias=True)\n",
            "    (3): ReLU()\n",
            "    (4): Dropout(p=0.3, inplace=False)\n",
            "    (5): Linear(in_features=95, out_features=10, bias=True)\n",
            "  )\n",
            ")\n"
          ]
        }
      ],
      "source": [
        "# (Optional)\n",
        "# Add necessary codes to the next block to load the model from file.\n",
        "# load model history\n",
        "print(history[1], history[2], history[3], history[4])\n",
        "train_loss, val_loss, train_accuracy, val_accuracy = history[1], history[2], history[3], history[4]\n",
        "print(\"before:\", history)\n",
        "history = torch.load(path)\n",
        "print(\"after:\", history)"
      ]
    },
    {
      "cell_type": "code",
      "execution_count": null,
      "metadata": {
        "id": "9d8bZAoI8QMk"
      },
      "outputs": [],
      "source": [
        "model, train_losses, val_losses, train_accuracies, val_accuracies = history, train_loss, val_loss, train_accuracy, val_accuracy "
      ]
    },
    {
      "cell_type": "markdown",
      "metadata": {
        "id": "kAlO7hJ3d7fI"
      },
      "source": [
        "## Plot loss and accuracy"
      ]
    },
    {
      "cell_type": "code",
      "execution_count": null,
      "metadata": {
        "id": "IgZH6-tRd7fJ"
      },
      "outputs": [],
      "source": [
        "def plot_accuracy(train_accuracies, val_accuracies):\n",
        "    \"\"\"Plot accuracies\"\"\"\n",
        "    plt.plot(train_accuracies, \"-x\")\n",
        "    plt.plot(val_accuracies, \"-o\")\n",
        "    plt.xlabel(\"Epoch\")\n",
        "    plt.ylabel(\"Accuracy\")\n",
        "    plt.legend([\"Training\", \"Validation\"])\n",
        "    plt.title(\"Accuracy vs. No. of epochs\")"
      ]
    },
    {
      "cell_type": "code",
      "execution_count": null,
      "metadata": {
        "id": "5p949D2Jd7fJ",
        "colab": {
          "base_uri": "https://localhost:8080/",
          "height": 295
        },
        "outputId": "75a157c7-ba66-4ed9-cd33-05f126b56b59"
      },
      "outputs": [
        {
          "output_type": "display_data",
          "data": {
            "text/plain": [
              "<Figure size 432x288 with 1 Axes>"
            ],
            "image/png": "[encoded data removed]"
          },
          "metadata": {
            "needs_background": "light"
          }
        }
      ],
      "source": [
        "plot_accuracy(train_accuracies, val_accuracies)"
      ]
    },
    {
      "cell_type": "code",
      "execution_count": null,
      "metadata": {
        "id": "mLT6fa9Kd7fJ"
      },
      "outputs": [],
      "source": [
        "def plot_losses(train_losses, val_losses):\n",
        "    \"\"\"Plot losses\"\"\"\n",
        "    plt.plot(train_losses, \"-x\")\n",
        "    plt.plot(val_losses, \"-o\")\n",
        "    plt.xlabel(\"Epoch\")\n",
        "    plt.ylabel(\"Loss\")\n",
        "    plt.legend([\"Training\", \"Validation\"])\n",
        "    plt.title(\"Loss vs. No. of Epochs\")"
      ]
    },
    {
      "cell_type": "code",
      "execution_count": null,
      "metadata": {
        "id": "2MnwfDpOd7fJ",
        "colab": {
          "base_uri": "https://localhost:8080/",
          "height": 295
        },
        "outputId": "608738c8-fe6d-4391-fcbb-36cb2ef876dc"
      },
      "outputs": [
        {
          "output_type": "display_data",
          "data": {
            "text/plain": [
              "<Figure size 432x288 with 1 Axes>"
            ],
            "image/png": "[encoded data removed]"
          },
          "metadata": {
            "needs_background": "light"
          }
        }
      ],
      "source": [
        "plot_losses(train_losses, val_losses)"
      ]
    },
    {
      "cell_type": "markdown",
      "metadata": {
        "id": "hJ-p0RjYd7fJ"
      },
      "source": [
        "## Train a model on the entire dataset"
      ]
    },
    {
      "cell_type": "code",
      "execution_count": null,
      "metadata": {
        "id": "eCpqCmbed7fJ"
      },
      "outputs": [],
      "source": [
        "indices, _ = split_indices(len(dataset), 0, rand_seed)\n",
        "\n",
        "sampler = SubsetRandomSampler(indices)\n",
        "dl = DataLoader(dataset, batch_size, sampler=sampler)\n",
        "dl = DeviceDataLoader(dl, device)"
      ]
    },
    {
      "cell_type": "markdown",
      "metadata": {
        "id": "IsgMQH7cd7fK"
      },
      "source": [
        "**Set the maximum number of training epochs and the learning rate for finetuning your model.**"
      ]
    },
    {
      "cell_type": "code",
      "execution_count": null,
      "metadata": {
        "id": "tkTQCYu_d7fK",
        "colab": {
          "base_uri": "https://localhost:8080/"
        },
        "outputId": "d1cc829a-403f-4ffc-9e54-90ed254fb955"
      },
      "outputs": [
        {
          "output_type": "stream",
          "name": "stdout",
          "text": [
            "Warmup ...\n",
            "epoch=0.000, train_accuracy=0.779, train_loss=0.614\n",
            "epoch=1.000, train_accuracy=0.845, train_loss=0.425\n",
            "epoch=2.000, train_accuracy=0.860, train_loss=0.384\n",
            "epoch=3.000, train_accuracy=0.867, train_loss=0.360\n",
            "epoch=4.000, train_accuracy=0.874, train_loss=0.340\n",
            "epoch=5.000, train_accuracy=0.878, train_loss=0.329\n",
            "epoch=6.000, train_accuracy=0.882, train_loss=0.322\n",
            "epoch=7.000, train_accuracy=0.885, train_loss=0.311\n",
            "epoch=8.000, train_accuracy=0.886, train_loss=0.303\n",
            "epoch=9.000, train_accuracy=0.888, train_loss=0.300\n",
            "epoch=10.000, train_accuracy=0.890, train_loss=0.296\n",
            "epoch=11.000, train_accuracy=0.894, train_loss=0.289\n",
            "epoch=12.000, train_accuracy=0.895, train_loss=0.285\n",
            "epoch=13.000, train_accuracy=0.896, train_loss=0.280\n",
            "epoch=14.000, train_accuracy=0.896, train_loss=0.282\n",
            "Warmup Completes!\n"
          ]
        }
      ],
      "source": [
        "######################\n",
        "#   YOUR CODE HERE   #\n",
        "######################\n",
        "#num_epochs = 10 # Max number of training epochs\n",
        "#lr = 0.1 # Set the learning rate\n",
        "\n",
        "model_warmup(15, model, train_dl, [])\n"
      ]
    },
    {
      "cell_type": "code",
      "execution_count": null,
      "metadata": {
        "id": "djPw-AArd7fK",
        "colab": {
          "base_uri": "https://localhost:8080/"
        },
        "outputId": "01f4da7f-dbee-47f5-cc1c-19a2c2087b60"
      },
      "outputs": [
        {
          "output_type": "stream",
          "name": "stdout",
          "text": [
            "Training...\n",
            "epoch=0.000, train_accuracy=0.899, train_loss=0.273, lr=0.080\n",
            "epoch=1.000, train_accuracy=0.900, train_loss=0.269, lr=0.080\n",
            "epoch=2.000, train_accuracy=0.902, train_loss=0.262, lr=0.080\n",
            "epoch=3.000, train_accuracy=0.902, train_loss=0.264, lr=0.080\n",
            "epoch=4.000, train_accuracy=0.903, train_loss=0.261, lr=0.080\n",
            "epoch=5.000, train_accuracy=0.904, train_loss=0.259, lr=0.080\n",
            "epoch=6.000, train_accuracy=0.906, train_loss=0.255, lr=0.080\n",
            "epoch=7.000, train_accuracy=0.906, train_loss=0.253, lr=0.080\n",
            "epoch=8.000, train_accuracy=0.908, train_loss=0.251, lr=0.080\n",
            "epoch=9.000, train_accuracy=0.908, train_loss=0.251, lr=0.080\n",
            "epoch=10.000, train_accuracy=0.913, train_loss=0.237, lr=0.050\n",
            "epoch=11.000, train_accuracy=0.913, train_loss=0.236, lr=0.050\n",
            "epoch=12.000, train_accuracy=0.913, train_loss=0.230, lr=0.050\n",
            "epoch=13.000, train_accuracy=0.912, train_loss=0.233, lr=0.050\n",
            "epoch=14.000, train_accuracy=0.915, train_loss=0.231, lr=0.050\n",
            "epoch=15.000, train_accuracy=0.914, train_loss=0.230, lr=0.050\n",
            "epoch=16.000, train_accuracy=0.915, train_loss=0.227, lr=0.050\n",
            "epoch=17.000, train_accuracy=0.914, train_loss=0.227, lr=0.050\n",
            "epoch=18.000, train_accuracy=0.916, train_loss=0.224, lr=0.050\n",
            "epoch=19.000, train_accuracy=0.916, train_loss=0.225, lr=0.050\n",
            "epoch=20.000, train_accuracy=0.918, train_loss=0.218, lr=0.025\n",
            "epoch=21.000, train_accuracy=0.921, train_loss=0.214, lr=0.025\n",
            "epoch=22.000, train_accuracy=0.921, train_loss=0.211, lr=0.025\n",
            "epoch=23.000, train_accuracy=0.920, train_loss=0.211, lr=0.025\n",
            "epoch=24.000, train_accuracy=0.921, train_loss=0.212, lr=0.025\n",
            "epoch=25.000, train_accuracy=0.921, train_loss=0.212, lr=0.025\n",
            "epoch=26.000, train_accuracy=0.919, train_loss=0.210, lr=0.025\n",
            "epoch=27.000, train_accuracy=0.922, train_loss=0.210, lr=0.025\n",
            "epoch=28.000, train_accuracy=0.921, train_loss=0.209, lr=0.025\n",
            "epoch=29.000, train_accuracy=0.923, train_loss=0.206, lr=0.025\n",
            "epoch=30.000, train_accuracy=0.922, train_loss=0.206, lr=0.025\n",
            "epoch=31.000, train_accuracy=0.922, train_loss=0.206, lr=0.025\n",
            "epoch=32.000, train_accuracy=0.923, train_loss=0.206, lr=0.025\n",
            "epoch=33.000, train_accuracy=0.922, train_loss=0.207, lr=0.025\n",
            "epoch=34.000, train_accuracy=0.921, train_loss=0.207, lr=0.025\n",
            "epoch=35.000, train_accuracy=0.923, train_loss=0.205, lr=0.025\n",
            "epoch=36.000, train_accuracy=0.924, train_loss=0.202, lr=0.025\n",
            "epoch=37.000, train_accuracy=0.923, train_loss=0.205, lr=0.025\n",
            "epoch=38.000, train_accuracy=0.923, train_loss=0.203, lr=0.025\n",
            "epoch=39.000, train_accuracy=0.925, train_loss=0.200, lr=0.025\n",
            "epoch=40.000, train_accuracy=0.924, train_loss=0.199, lr=0.010\n",
            "epoch=41.000, train_accuracy=0.928, train_loss=0.195, lr=0.010\n",
            "epoch=42.000, train_accuracy=0.927, train_loss=0.195, lr=0.010\n",
            "epoch=43.000, train_accuracy=0.927, train_loss=0.197, lr=0.010\n",
            "epoch=44.000, train_accuracy=0.927, train_loss=0.197, lr=0.010\n",
            "epoch=45.000, train_accuracy=0.929, train_loss=0.193, lr=0.010\n",
            "epoch=46.000, train_accuracy=0.926, train_loss=0.194, lr=0.010\n",
            "epoch=47.000, train_accuracy=0.928, train_loss=0.192, lr=0.010\n",
            "epoch=48.000, train_accuracy=0.929, train_loss=0.191, lr=0.010\n",
            "epoch=49.000, train_accuracy=0.926, train_loss=0.193, lr=0.010\n",
            "epoch=50.000, train_accuracy=0.928, train_loss=0.191, lr=0.010\n",
            "epoch=51.000, train_accuracy=0.927, train_loss=0.194, lr=0.010\n",
            "epoch=52.000, train_accuracy=0.929, train_loss=0.190, lr=0.010\n",
            "epoch=53.000, train_accuracy=0.927, train_loss=0.192, lr=0.010\n",
            "epoch=54.000, train_accuracy=0.928, train_loss=0.190, lr=0.010\n",
            "epoch=55.000, train_accuracy=0.926, train_loss=0.194, lr=0.010\n",
            "epoch=56.000, train_accuracy=0.928, train_loss=0.192, lr=0.010\n",
            "epoch=57.000, train_accuracy=0.929, train_loss=0.191, lr=0.010\n",
            "epoch=58.000, train_accuracy=0.928, train_loss=0.190, lr=0.010\n",
            "epoch=59.000, train_accuracy=0.929, train_loss=0.188, lr=0.010\n",
            "epoch=60.000, train_accuracy=0.928, train_loss=0.190, lr=0.005\n",
            "epoch=61.000, train_accuracy=0.930, train_loss=0.187, lr=0.005\n",
            "epoch=62.000, train_accuracy=0.929, train_loss=0.188, lr=0.005\n",
            "epoch=63.000, train_accuracy=0.929, train_loss=0.188, lr=0.005\n",
            "epoch=64.000, train_accuracy=0.928, train_loss=0.189, lr=0.005\n",
            "epoch=65.000, train_accuracy=0.929, train_loss=0.187, lr=0.005\n",
            "epoch=66.000, train_accuracy=0.930, train_loss=0.186, lr=0.005\n",
            "epoch=67.000, train_accuracy=0.931, train_loss=0.186, lr=0.005\n",
            "epoch=68.000, train_accuracy=0.930, train_loss=0.187, lr=0.005\n",
            "epoch=69.000, train_accuracy=0.930, train_loss=0.186, lr=0.005\n",
            "epoch=70.000, train_accuracy=0.929, train_loss=0.185, lr=0.005\n",
            "epoch=71.000, train_accuracy=0.928, train_loss=0.187, lr=0.005\n",
            "epoch=72.000, train_accuracy=0.929, train_loss=0.189, lr=0.005\n",
            "epoch=73.000, train_accuracy=0.930, train_loss=0.185, lr=0.005\n",
            "epoch=74.000, train_accuracy=0.929, train_loss=0.188, lr=0.005\n",
            "epoch=75.000, train_accuracy=0.930, train_loss=0.185, lr=0.005\n",
            "epoch=76.000, train_accuracy=0.929, train_loss=0.187, lr=0.005\n",
            "epoch=77.000, train_accuracy=0.931, train_loss=0.186, lr=0.005\n",
            "epoch=78.000, train_accuracy=0.930, train_loss=0.187, lr=0.005\n",
            "epoch=79.000, train_accuracy=0.931, train_loss=0.183, lr=0.005\n",
            "Training Completed!\n"
          ]
        }
      ],
      "source": [
        "num_epochs = 80 # Max number of training epochs\n",
        "loss_fn = nn.CrossEntropyLoss() # Define the loss function\n",
        "lr = 0.08 # Set the learning rate\n",
        "opt_fn = torch.optim.SGD(model.parameters(), lr=lr, nesterov=True, momentum=0.9)\n",
        "\n",
        "history = train_model(num_epochs, model, dl, [], loss_fn, opt_fn, lr)\n",
        "model = history[0]"
      ]
    },
    {
      "cell_type": "code",
      "source": [
        "#e_train\n",
        "num_epochs = 20 # Max number of training epochs\n",
        "lr = 0.001 # Set the learning rate\n",
        "opt_fn = torch.optim.SGD(model.parameters(), lr=lr, nesterov=True, momentum=0.9)\n",
        "\n",
        "history = e_train_model(num_epochs, model, dl, [], loss_fn, opt_fn, lr)\n",
        "model = history[0]"
      ],
      "metadata": {
        "colab": {
          "base_uri": "https://localhost:8080/"
        },
        "id": "yUroSfntucH5",
        "outputId": "07a274b4-2b44-474f-c323-21b4da8c34db"
      },
      "execution_count": null,
      "outputs": [
        {
          "output_type": "stream",
          "name": "stdout",
          "text": [
            "Enhanced Training...\n",
            "epoch=0.000, train_accuracy=0.932, train_loss=0.182, lr=0.001\n",
            "epoch=1.000, train_accuracy=0.931, train_loss=0.183, lr=0.001\n",
            "epoch=2.000, train_accuracy=0.930, train_loss=0.186, lr=0.001\n",
            "epoch=3.000, train_accuracy=0.930, train_loss=0.183, lr=0.001\n",
            "epoch=4.000, train_accuracy=0.931, train_loss=0.182, lr=0.001\n",
            "epoch=5.000, train_accuracy=0.932, train_loss=0.183, lr=0.001\n",
            "epoch=6.000, train_accuracy=0.930, train_loss=0.186, lr=0.001\n",
            "epoch=7.000, train_accuracy=0.931, train_loss=0.185, lr=0.001\n",
            "epoch=8.000, train_accuracy=0.932, train_loss=0.182, lr=0.001\n",
            "epoch=9.000, train_accuracy=0.931, train_loss=0.184, lr=0.001\n",
            "epoch=10.000, train_accuracy=0.931, train_loss=0.183, lr=0.001\n",
            "epoch=11.000, train_accuracy=0.930, train_loss=0.184, lr=0.001\n",
            "epoch=12.000, train_accuracy=0.931, train_loss=0.182, lr=0.001\n",
            "epoch=13.000, train_accuracy=0.931, train_loss=0.184, lr=0.001\n",
            "epoch=14.000, train_accuracy=0.931, train_loss=0.183, lr=0.001\n",
            "epoch=15.000, train_accuracy=0.930, train_loss=0.186, lr=0.001\n",
            "epoch=16.000, train_accuracy=0.931, train_loss=0.182, lr=0.001\n",
            "epoch=17.000, train_accuracy=0.932, train_loss=0.181, lr=0.001\n",
            "epoch=18.000, train_accuracy=0.931, train_loss=0.184, lr=0.001\n",
            "epoch=19.000, train_accuracy=0.931, train_loss=0.183, lr=0.001\n",
            "Training Completed!\n"
          ]
        }
      ]
    },
    {
      "cell_type": "markdown",
      "metadata": {
        "id": "f9sHHEqHd7fK"
      },
      "source": [
        "## Check Predictions"
      ]
    },
    {
      "cell_type": "code",
      "execution_count": null,
      "metadata": {
        "id": "6C2v6JgOd7fK"
      },
      "outputs": [],
      "source": [
        "def view_prediction(img, label, probs, classes):\n",
        "    \"\"\"\n",
        "    Visualize predictions.\n",
        "    \"\"\"\n",
        "    probs = probs.cpu().numpy().squeeze()\n",
        "\n",
        "    fig, (ax1, ax2) = plt.subplots(figsize=(8,15), ncols=2)\n",
        "    ax1.imshow(img.resize_(1, 28, 28).cpu().numpy().squeeze(), cmap='Greys_r')\n",
        "    ax1.axis('off')\n",
        "    ax1.set_title('Actual: {}'.format(classes[label]))\n",
        "    ax2.barh(np.arange(10), probs)\n",
        "    ax2.set_aspect(0.1)\n",
        "    ax2.set_yticks(np.arange(10))\n",
        "    ax2.set_yticklabels(classes, size='small');\n",
        "    ax2.set_title('Predicted: probabilities')\n",
        "    ax2.set_xlim(0, 1.1)\n",
        "\n",
        "    plt.tight_layout()"
      ]
    },
    {
      "cell_type": "code",
      "execution_count": null,
      "metadata": {
        "id": "3uyDRvW2d7fK",
        "colab": {
          "base_uri": "https://localhost:8080/",
          "height": 307
        },
        "outputId": "9e88d2f7-c654-4f53-fd95-37ff8aa50b59"
      },
      "outputs": [
        {
          "output_type": "display_data",
          "data": {
            "text/plain": [
              "<Figure size 576x1080 with 2 Axes>"
            ],
            "image/png": "[encoded data removed]"
          },
          "metadata": {
            "needs_background": "light"
          }
        }
      ],
      "source": [
        "# Calculate the class probabilites (log softmax) for img\n",
        "images = iter(dl)\n",
        "for imgs, labels in images:\n",
        "    with torch.no_grad():\n",
        "        model.eval()\n",
        "        # Calculate the class probabilites (log softmax) for img\n",
        "        probs = torch.nn.functional.softmax(model(imgs[0].unsqueeze(0)), dim=1)\n",
        "        # Plot the image and probabilites\n",
        "        view_prediction(imgs[0], labels[0], probs, dataset.classes)\n",
        "    break"
      ]
    },
    {
      "cell_type": "markdown",
      "metadata": {
        "id": "cuYB5juFd7fL"
      },
      "source": [
        "## Save the model"
      ]
    },
    {
      "cell_type": "code",
      "execution_count": null,
      "metadata": {
        "id": "fHgHYXcid7fL"
      },
      "outputs": [],
      "source": [
        "# Very important\n",
        "torch.save(model, 'model')"
      ]
    },
    {
      "cell_type": "markdown",
      "metadata": {
        "id": "Sbkp61bvd7fL"
      },
      "source": [
        "## Question 4\n",
        "\n",
        "## Compute accuracy on the test set"
      ]
    },
    {
      "cell_type": "code",
      "execution_count": null,
      "metadata": {
        "id": "oSPdA1mCd7fL"
      },
      "outputs": [],
      "source": [
        "test_dataset = FashionMNIST('MNIST_data/', download = True, train = False, transform = transform)"
      ]
    },
    {
      "cell_type": "code",
      "execution_count": null,
      "metadata": {
        "id": "KVhz5ldTd7fL"
      },
      "outputs": [],
      "source": [
        "test_dl = DataLoader(test_dataset, batch_size)\n",
        "test_dl = DeviceDataLoader(test_dl, device)"
      ]
    },
    {
      "cell_type": "code",
      "execution_count": null,
      "metadata": {
        "id": "WxrohWhMd7fL"
      },
      "outputs": [],
      "source": [
        "def evaluate(model, test_dl):\n",
        "    \"\"\"\n",
        "    Evaluates your model on the test data.\n",
        "    \n",
        "    Args:\n",
        "        model: ImageClassifierNet object\n",
        "        test_dl: test dataloader\n",
        "    \n",
        "    Returns: \n",
        "        Test accuracy.\n",
        "    \"\"\"\n",
        "    ######################\n",
        "    #   YOUR CODE HERE   #\n",
        "    ######################\n",
        "    test_accuracy = Accumulator(2)\n",
        "    model.eval()\n",
        "    with torch.no_grad():\n",
        "      for X, y in test_dl:\n",
        "        X = X.to(device)\n",
        "        y = y.to(device)\n",
        "        y_hat = model(X)\n",
        "        test_accuracy.app(accuracy(y_hat, y), X.shape[0])\n",
        "        aa = test_accuracy[0] / test_accuracy[1]\n",
        "        print(f'Accumulated test_accuracy={aa}')\n",
        "\n",
        "    return test_accuracy[0] / test_accuracy[1]"
      ]
    },
    {
      "cell_type": "code",
      "execution_count": null,
      "metadata": {
        "id": "6NupaE4Ad7fL",
        "colab": {
          "base_uri": "https://localhost:8080/"
        },
        "outputId": "ca2cc906-8ae8-4265-99ec-8556d5743f45"
      },
      "outputs": [
        {
          "output_type": "stream",
          "name": "stdout",
          "text": [
            "Accumulated test_accuracy=0.92578125\n",
            "Accumulated test_accuracy=0.927734375\n",
            "Accumulated test_accuracy=0.9283854166666666\n",
            "Accumulated test_accuracy=0.92578125\n",
            "Accumulated test_accuracy=0.9265625\n",
            "Accumulated test_accuracy=0.9251302083333334\n",
            "Accumulated test_accuracy=0.9252232142857143\n",
            "Accumulated test_accuracy=0.9228515625\n",
            "Accumulated test_accuracy=0.9249131944444444\n",
            "Accumulated test_accuracy=0.921484375\n",
            "Accumulated test_accuracy=0.9204545454545454\n",
            "Accumulated test_accuracy=0.91796875\n",
            "Accumulated test_accuracy=0.9170673076923077\n",
            "Accumulated test_accuracy=0.9165736607142857\n",
            "Accumulated test_accuracy=0.915625\n",
            "Accumulated test_accuracy=0.91455078125\n",
            "Accumulated test_accuracy=0.9140625\n",
            "Accumulated test_accuracy=0.9164496527777778\n",
            "Accumulated test_accuracy=0.9161184210526315\n",
            "Accumulated test_accuracy=0.91640625\n",
            "Accumulated test_accuracy=0.9166666666666666\n",
            "Accumulated test_accuracy=0.9153053977272727\n",
            "Accumulated test_accuracy=0.9161005434782609\n",
            "Accumulated test_accuracy=0.9158528645833334\n",
            "Accumulated test_accuracy=0.91609375\n",
            "Accumulated test_accuracy=0.9158653846153846\n",
            "Accumulated test_accuracy=0.9162326388888888\n",
            "Accumulated test_accuracy=0.916015625\n",
            "Accumulated test_accuracy=0.9167564655172413\n",
            "Accumulated test_accuracy=0.9182291666666667\n",
            "Accumulated test_accuracy=0.9188508064516129\n",
            "Accumulated test_accuracy=0.9188232421875\n",
            "Accumulated test_accuracy=0.9203361742424242\n",
            "Accumulated test_accuracy=0.9206112132352942\n",
            "Accumulated test_accuracy=0.9204241071428572\n",
            "Accumulated test_accuracy=0.9207899305555556\n",
            "Accumulated test_accuracy=0.9210304054054054\n",
            "Accumulated test_accuracy=0.921155427631579\n",
            "Accumulated test_accuracy=0.9214743589743589\n",
            "Accumulated test_accuracy=0.9215\n",
            "Test Accuracy = 0.9215\n"
          ]
        }
      ],
      "source": [
        "print(\"Test Accuracy = {:.4f}\".format(evaluate(model, test_dl)))"
      ]
    },
    {
      "cell_type": "markdown",
      "metadata": {
        "id": "VLKxAsOFlcCR"
      },
      "source": [
        "## Preparing the CSV for Kaggle submission"
      ]
    },
    {
      "cell_type": "code",
      "execution_count": null,
      "metadata": {
        "colab": {
          "base_uri": "https://localhost:8080/"
        },
        "id": "8mbl7qqIoak3",
        "outputId": "685f74e1-2d11-469f-e4a4-104fc3600e47"
      },
      "outputs": [
        {
          "output_type": "stream",
          "name": "stdout",
          "text": [
            "--2022-05-03 21:51:58--  https://people.tamu.edu/~sumedhpendurkar/csce633/test_private/dataset.zip\n",
            "Resolving people.tamu.edu (people.tamu.edu)... 128.194.54.37\n",
            "Connecting to people.tamu.edu (people.tamu.edu)|128.194.54.37|:443... connected.\n",
            "HTTP request sent, awaiting response... 200 OK\n",
            "Length: 6101143 (5.8M) [application/zip]\n",
            "Saving to: ‘/tmp/dataset.zip’\n",
            "\n",
            "/tmp/dataset.zip    100%[===================>]   5.82M  3.54MB/s    in 1.6s    \n",
            "\n",
            "2022-05-03 21:52:01 (3.54 MB/s) - ‘/tmp/dataset.zip’ saved [6101143/6101143]\n",
            "\n"
          ]
        }
      ],
      "source": [
        "import zipfile\n",
        "from tqdm import tqdm\n",
        "from torchvision.io import read_image\n",
        "!wget --no-check-certificate \\\n",
        "    \"https://people.tamu.edu/~sumedhpendurkar/csce633/test_private/dataset.zip\" \\\n",
        "    -O \"/tmp/dataset.zip\"\n",
        "zip_ref = zipfile.ZipFile('/tmp/dataset.zip', 'r') #Opens the zip file in read mode\n",
        "zip_ref.extractall('/tmp') #Extracts the files into the /tmp folder\n",
        "zip_ref.close()"
      ]
    },
    {
      "cell_type": "code",
      "execution_count": null,
      "metadata": {
        "id": "59P1JDTzg7q0"
      },
      "outputs": [],
      "source": [
        "from torch.utils.data import Dataset\n",
        "import pandas as pd\n",
        "from tqdm import tqdm\n",
        "class PrivateImageDataset(Dataset):\n",
        "    def __init__(self, base_path, length, transform=None):\n",
        "        self.base_path = base_path\n",
        "        self.transform = transform\n",
        "        self.length = length\n",
        "\n",
        "    def __len__(self):\n",
        "        return (self.length)\n",
        "\n",
        "    def __getitem__(self, idx):\n",
        "        path = self.base_path + str(idx) + '.png'\n",
        "        im = Image.open(path)\n",
        "        if self.transform:\n",
        "            image = self.transform(im)\n",
        "        return image, 0"
      ]
    },
    {
      "cell_type": "code",
      "execution_count": null,
      "metadata": {
        "id": "ImlgJdfgt1bn"
      },
      "outputs": [],
      "source": [
        "def get_test_labels(model, dataset_size):\n",
        "    test_dataset = PrivateImageDataset('/tmp/', dataset_size, transform=transform)\n",
        "    test_dl = DataLoader(test_dataset, batch_size)\n",
        "    test_dl = DeviceDataLoader(test_dl, device)\n",
        "    preds, labels = [], []\n",
        "    with torch.no_grad():\n",
        "        model.eval()\n",
        "        \n",
        "        for i, data in tqdm(enumerate(test_dl)):\n",
        "            xb, yb = data\n",
        "            y_pred = model(xb)\n",
        "            _, y = torch.max(y_pred, dim=1)\n",
        "            preds.extend(y_pred)\n",
        "            labels.extend(y)\n",
        "    return preds, labels"
      ]
    },
    {
      "cell_type": "code",
      "execution_count": null,
      "metadata": {
        "id": "JO7b6DNYo6o-"
      },
      "outputs": [],
      "source": [
        "def create_csv_for_kaggle(model):\n",
        "    dataset_size = 10000\n",
        "    _, labels = get_test_labels(model, dataset_size)\n",
        "    data = []\n",
        "    for i in range(len(labels)):\n",
        "        data.append([str(i) + '.png', labels[i].item()])\n",
        "    df = pd.DataFrame(data, columns=['id', 'label'])\n",
        "    df.to_csv('/home/submission.csv',index=False)\n",
        "    return df\n",
        "    \n"
      ]
    },
    {
      "cell_type": "code",
      "execution_count": null,
      "metadata": {
        "id": "eLlp-IuMolpg",
        "colab": {
          "base_uri": "https://localhost:8080/",
          "height": 441
        },
        "outputId": "3b0a9f27-3aa3-4144-ccce-3237e672d32b"
      },
      "outputs": [
        {
          "output_type": "stream",
          "name": "stderr",
          "text": [
            "40it [00:05,  7.91it/s]\n"
          ]
        },
        {
          "output_type": "execute_result",
          "data": {
            "text/plain": [
              "            id  label\n",
              "0        0.png      9\n",
              "1        1.png      2\n",
              "2        2.png      1\n",
              "3        3.png      1\n",
              "4        4.png      6\n",
              "...        ...    ...\n",
              "9995  9995.png      9\n",
              "9996  9996.png      1\n",
              "9997  9997.png      8\n",
              "9998  9998.png      1\n",
              "9999  9999.png      5\n",
              "\n",
              "[10000 rows x 2 columns]"
            ],
            "text/html": [
              "\n",
              "  <div id=\"df-c750f984-1966-49d2-b557-7b1aa3ee9d25\">\n",
              "    <div class=\"colab-df-container\">\n",
              "      <div>\n",
              "<style scoped>\n",
              "    .dataframe tbody tr th:only-of-type {\n",
              "        vertical-align: middle;\n",
              "    }\n",
              "\n",
              "    .dataframe tbody tr th {\n",
              "        vertical-align: top;\n",
              "    }\n",
              "\n",
              "    .dataframe thead th {\n",
              "        text-align: right;\n",
              "    }\n",
              "</style>\n",
              "<table border=\"1\" class=\"dataframe\">\n",
              "  <thead>\n",
              "    <tr style=\"text-align: right;\">\n",
              "      <th></th>\n",
              "      <th>id</th>\n",
              "      <th>label</th>\n",
              "    </tr>\n",
              "  </thead>\n",
              "  <tbody>\n",
              "    <tr>\n",
              "      <th>0</th>\n",
              "      <td>0.png</td>\n",
              "      <td>9</td>\n",
              "    </tr>\n",
              "    <tr>\n",
              "      <th>1</th>\n",
              "      <td>1.png</td>\n",
              "      <td>2</td>\n",
              "    </tr>\n",
              "    <tr>\n",
              "      <th>2</th>\n",
              "      <td>2.png</td>\n",
              "      <td>1</td>\n",
              "    </tr>\n",
              "    <tr>\n",
              "      <th>3</th>\n",
              "      <td>3.png</td>\n",
              "      <td>1</td>\n",
              "    </tr>\n",
              "    <tr>\n",
              "      <th>4</th>\n",
              "      <td>4.png</td>\n",
              "      <td>6</td>\n",
              "    </tr>\n",
              "    <tr>\n",
              "      <th>...</th>\n",
              "      <td>...</td>\n",
              "      <td>...</td>\n",
              "    </tr>\n",
              "    <tr>\n",
              "      <th>9995</th>\n",
              "      <td>9995.png</td>\n",
              "      <td>9</td>\n",
              "    </tr>\n",
              "    <tr>\n",
              "      <th>9996</th>\n",
              "      <td>9996.png</td>\n",
              "      <td>1</td>\n",
              "    </tr>\n",
              "    <tr>\n",
              "      <th>9997</th>\n",
              "      <td>9997.png</td>\n",
              "      <td>8</td>\n",
              "    </tr>\n",
              "    <tr>\n",
              "      <th>9998</th>\n",
              "      <td>9998.png</td>\n",
              "      <td>1</td>\n",
              "    </tr>\n",
              "    <tr>\n",
              "      <th>9999</th>\n",
              "      <td>9999.png</td>\n",
              "      <td>5</td>\n",
              "    </tr>\n",
              "  </tbody>\n",
              "</table>\n",
              "<p>10000 rows × 2 columns</p>\n",
              "</div>\n",
              "      <button class=\"colab-df-convert\" onclick=\"convertToInteractive('df-c750f984-1966-49d2-b557-7b1aa3ee9d25')\"\n",
              "              title=\"Convert this dataframe to an interactive table.\"\n",
              "              style=\"display:none;\">\n",
              "        \n",
              "  <svg xmlns=\"http://www.w3.org/2000/svg\" height=\"24px\"viewBox=\"0 0 24 24\"\n",
              "       width=\"24px\">\n",
              "    <path d=\"M0 0h24v24H0V0z\" fill=\"none\"/>\n",
              "    <path d=\"M18.56 5.44l.94 2.06.94-2.06 2.06-.94-2.06-.94-.94-2.06-.94 2.06-2.06.94zm-11 1L8.5 8.5l.94-2.06 2.06-.94-2.06-.94L8.5 2.5l-.94 2.06-2.06.94zm10 10l.94 2.06.94-2.06 2.06-.94-2.06-.94-.94-2.06-.94 2.06-2.06.94z\"/><path d=\"M17.41 7.96l-1.37-1.37c-.4-.4-.92-.59-1.43-.59-.52 0-1.04.2-1.43.59L10.3 9.45l-7.72 7.72c-.78.78-.78 2.05 0 2.83L4 21.41c.39.39.9.59 1.41.59.51 0 1.02-.2 1.41-.59l7.78-7.78 2.81-2.81c.8-.78.8-2.07 0-2.86zM5.41 20L4 18.59l7.72-7.72 1.47 1.35L5.41 20z\"/>\n",
              "  </svg>\n",
              "      </button>\n",
              "      \n",
              "  <style>\n",
              "    .colab-df-container {\n",
              "      display:flex;\n",
              "      flex-wrap:wrap;\n",
              "      gap: 12px;\n",
              "    }\n",
              "\n",
              "    .colab-df-convert {\n",
              "      background-color: #E8F0FE;\n",
              "      border: none;\n",
              "      border-radius: 50%;\n",
              "      cursor: pointer;\n",
              "      display: none;\n",
              "      fill: #1967D2;\n",
              "      height: 32px;\n",
              "      padding: 0 0 0 0;\n",
              "      width: 32px;\n",
              "    }\n",
              "\n",
              "    .colab-df-convert:hover {\n",
              "      background-color: #E2EBFA;\n",
              "      box-shadow: 0px 1px 2px rgba(60, 64, 67, 0.3), 0px 1px 3px 1px rgba(60, 64, 67, 0.15);\n",
              "      fill: #174EA6;\n",
              "    }\n",
              "\n",
              "    [theme=dark] .colab-df-convert {\n",
              "      background-color: #3B4455;\n",
              "      fill: #D2E3FC;\n",
              "    }\n",
              "\n",
              "    [theme=dark] .colab-df-convert:hover {\n",
              "      background-color: #434B5C;\n",
              "      box-shadow: 0px 1px 3px 1px rgba(0, 0, 0, 0.15);\n",
              "      filter: drop-shadow(0px 1px 2px rgba(0, 0, 0, 0.3));\n",
              "      fill: #FFFFFF;\n",
              "    }\n",
              "  </style>\n",
              "\n",
              "      <script>\n",
              "        const buttonEl =\n",
              "          document.querySelector('#df-c750f984-1966-49d2-b557-7b1aa3ee9d25 button.colab-df-convert');\n",
              "        buttonEl.style.display =\n",
              "          google.colab.kernel.accessAllowed ? 'block' : 'none';\n",
              "\n",
              "        async function convertToInteractive(key) {\n",
              "          const element = document.querySelector('#df-c750f984-1966-49d2-b557-7b1aa3ee9d25');\n",
              "          const dataTable =\n",
              "            await google.colab.kernel.invokeFunction('convertToInteractive',\n",
              "                                                     [key], {});\n",
              "          if (!dataTable) return;\n",
              "\n",
              "          const docLinkHtml = 'Like what you see? Visit the ' +\n",
              "            '<a target=\"_blank\" href=https://colab.research.google.com/notebooks/data_table.ipynb>data table notebook</a>'\n",
              "            + ' to learn more about interactive tables.';\n",
              "          element.innerHTML = '';\n",
              "          dataTable['output_type'] = 'display_data';\n",
              "          await google.colab.output.renderOutput(dataTable, element);\n",
              "          const docLink = document.createElement('div');\n",
              "          docLink.innerHTML = docLinkHtml;\n",
              "          element.appendChild(docLink);\n",
              "        }\n",
              "      </script>\n",
              "    </div>\n",
              "  </div>\n",
              "  "
            ]
          },
          "metadata": {},
          "execution_count": 53
        }
      ],
      "source": [
        "create_csv_for_kaggle(model)"
      ]
    },
    {
      "cell_type": "markdown",
      "metadata": {
        "id": "qYSP2fbFd7fM"
      },
      "source": [
        "## Tips to increase the test accuracy\n",
        "\n",
        "- **Data augmentation:** Diversifies your training set and leads to better generalization\n",
        "    - Flipping\n",
        "    - Rotation\n",
        "    - Shifting\n",
        "    - Cropping\n",
        "    - Adding noise\n",
        "    - Blurring\n",
        "    \n",
        "- **Regularization:** Reduces overfitting on the training set\n",
        "    - Early stopping\n",
        "    - Dropout\n",
        "    - $l_2$ regularization\n",
        "    - Batch normalization\n",
        "\n",
        "- **Hyperparameter tuning:**\n",
        "    - Weight initialization\n",
        "    - Learning rate\n",
        "    - Activation functions\n",
        "    - Optimizers"
      ]
    },
    {
      "cell_type": "code",
      "execution_count": null,
      "metadata": {
        "id": "vnjtcM3Td7fM"
      },
      "outputs": [],
      "source": [
        ""
      ]
    }
  ],
  "metadata": {
    "colab": {
      "collapsed_sections": [],
      "name": "pa6.ipynb",
      "provenance": []
    },
    "kernelspec": {
      "display_name": "Python 3",
      "language": "python",
      "name": "python3"
    },
    "language_info": {
      "codemirror_mode": {
        "name": "ipython",
        "version": 3
      },
      "file_extension": ".py",
      "mimetype": "text/x-python",
      "name": "python",
      "nbconvert_exporter": "python",
      "pygments_lexer": "ipython3",
      "version": "3.6.13"
    },
    "widgets": {
      "application/vnd.jupyter.widget-state+json": {
        "c8bc6c188bab43269b5df5df9070223b": {
          "model_module": "@jupyter-widgets/controls",
          "model_name": "HBoxModel",
          "model_module_version": "1.5.0",
          "state": {
            "_dom_classes": [],
            "_model_module": "@jupyter-widgets/controls",
            "_model_module_version": "1.5.0",
            "_model_name": "HBoxModel",
            "_view_count": null,
            "_view_module": "@jupyter-widgets/controls",
            "_view_module_version": "1.5.0",
            "_view_name": "HBoxView",
            "box_style": "",
            "children": [
              "IPY_MODEL_b19d103ad73247b89567cdc50f246f14",
              "IPY_MODEL_f0a3c4d06de1469aa8968f828f10dfbb",
              "IPY_MODEL_00125fdfe5714923a856d0f592b955a1"
            ],
            "layout": "IPY_MODEL_b37e20a987534c4a8dc5570ad61055d8"
          }
        },
        "b19d103ad73247b89567cdc50f246f14": {
          "model_module": "@jupyter-widgets/controls",
          "model_name": "HTMLModel",
          "model_module_version": "1.5.0",
          "state": {
            "_dom_classes": [],
            "_model_module": "@jupyter-widgets/controls",
            "_model_module_version": "1.5.0",
            "_model_name": "HTMLModel",
            "_view_count": null,
            "_view_module": "@jupyter-widgets/controls",
            "_view_module_version": "1.5.0",
            "_view_name": "HTMLView",
            "description": "",
            "description_tooltip": null,
            "layout": "IPY_MODEL_b672c79bc2fc4c17aff29482cb4421dd",
            "placeholder": "​",
            "style": "IPY_MODEL_74a7e9e062bd44849bf0fc9ec445fca7",
            "value": ""
          }
        },
        "f0a3c4d06de1469aa8968f828f10dfbb": {
          "model_module": "@jupyter-widgets/controls",
          "model_name": "FloatProgressModel",
          "model_module_version": "1.5.0",
          "state": {
            "_dom_classes": [],
            "_model_module": "@jupyter-widgets/controls",
            "_model_module_version": "1.5.0",
            "_model_name": "FloatProgressModel",
            "_view_count": null,
            "_view_module": "@jupyter-widgets/controls",
            "_view_module_version": "1.5.0",
            "_view_name": "ProgressView",
            "bar_style": "success",
            "description": "",
            "description_tooltip": null,
            "layout": "IPY_MODEL_58c9c5fe779640a0b51ab50006a5c5b0",
            "max": 26421880,
            "min": 0,
            "orientation": "horizontal",
            "style": "IPY_MODEL_c77e5906851741048a24d65833471e7f",
            "value": 26421880
          }
        },
        "00125fdfe5714923a856d0f592b955a1": {
          "model_module": "@jupyter-widgets/controls",
          "model_name": "HTMLModel",
          "model_module_version": "1.5.0",
          "state": {
            "_dom_classes": [],
            "_model_module": "@jupyter-widgets/controls",
            "_model_module_version": "1.5.0",
            "_model_name": "HTMLModel",
            "_view_count": null,
            "_view_module": "@jupyter-widgets/controls",
            "_view_module_version": "1.5.0",
            "_view_name": "HTMLView",
            "description": "",
            "description_tooltip": null,
            "layout": "IPY_MODEL_fdf2460d47eb41e8b4ca3e4fd113118d",
            "placeholder": "​",
            "style": "IPY_MODEL_f173e0f4a1c1486999032b6ac08b6e00",
            "value": " 26422272/? [00:04&lt;00:00, 9890208.08it/s]"
          }
        },
        "b37e20a987534c4a8dc5570ad61055d8": {
          "model_module": "@jupyter-widgets/base",
          "model_name": "LayoutModel",
          "model_module_version": "1.2.0",
          "state": {
            "_model_module": "@jupyter-widgets/base",
            "_model_module_version": "1.2.0",
            "_model_name": "LayoutModel",
            "_view_count": null,
            "_view_module": "@jupyter-widgets/base",
            "_view_module_version": "1.2.0",
            "_view_name": "LayoutView",
            "align_content": null,
            "align_items": null,
            "align_self": null,
            "border": null,
            "bottom": null,
            "display": null,
            "flex": null,
            "flex_flow": null,
            "grid_area": null,
            "grid_auto_columns": null,
            "grid_auto_flow": null,
            "grid_auto_rows": null,
            "grid_column": null,
            "grid_gap": null,
            "grid_row": null,
            "grid_template_areas": null,
            "grid_template_columns": null,
            "grid_template_rows": null,
            "height": null,
            "justify_content": null,
            "justify_items": null,
            "left": null,
            "margin": null,
            "max_height": null,
            "max_width": null,
            "min_height": null,
            "min_width": null,
            "object_fit": null,
            "object_position": null,
            "order": null,
            "overflow": null,
            "overflow_x": null,
            "overflow_y": null,
            "padding": null,
            "right": null,
            "top": null,
            "visibility": null,
            "width": null
          }
        },
        "b672c79bc2fc4c17aff29482cb4421dd": {
          "model_module": "@jupyter-widgets/base",
          "model_name": "LayoutModel",
          "model_module_version": "1.2.0",
          "state": {
            "_model_module": "@jupyter-widgets/base",
            "_model_module_version": "1.2.0",
            "_model_name": "LayoutModel",
            "_view_count": null,
            "_view_module": "@jupyter-widgets/base",
            "_view_module_version": "1.2.0",
            "_view_name": "LayoutView",
            "align_content": null,
            "align_items": null,
            "align_self": null,
            "border": null,
            "bottom": null,
            "display": null,
            "flex": null,
            "flex_flow": null,
            "grid_area": null,
            "grid_auto_columns": null,
            "grid_auto_flow": null,
            "grid_auto_rows": null,
            "grid_column": null,
            "grid_gap": null,
            "grid_row": null,
            "grid_template_areas": null,
            "grid_template_columns": null,
            "grid_template_rows": null,
            "height": null,
            "justify_content": null,
            "justify_items": null,
            "left": null,
            "margin": null,
            "max_height": null,
            "max_width": null,
            "min_height": null,
            "min_width": null,
            "object_fit": null,
            "object_position": null,
            "order": null,
            "overflow": null,
            "overflow_x": null,
            "overflow_y": null,
            "padding": null,
            "right": null,
            "top": null,
            "visibility": null,
            "width": null
          }
        },
        "74a7e9e062bd44849bf0fc9ec445fca7": {
          "model_module": "@jupyter-widgets/controls",
          "model_name": "DescriptionStyleModel",
          "model_module_version": "1.5.0",
          "state": {
            "_model_module": "@jupyter-widgets/controls",
            "_model_module_version": "1.5.0",
            "_model_name": "DescriptionStyleModel",
            "_view_count": null,
            "_view_module": "@jupyter-widgets/base",
            "_view_module_version": "1.2.0",
            "_view_name": "StyleView",
            "description_width": ""
          }
        },
        "58c9c5fe779640a0b51ab50006a5c5b0": {
          "model_module": "@jupyter-widgets/base",
          "model_name": "LayoutModel",
          "model_module_version": "1.2.0",
          "state": {
            "_model_module": "@jupyter-widgets/base",
            "_model_module_version": "1.2.0",
            "_model_name": "LayoutModel",
            "_view_count": null,
            "_view_module": "@jupyter-widgets/base",
            "_view_module_version": "1.2.0",
            "_view_name": "LayoutView",
            "align_content": null,
            "align_items": null,
            "align_self": null,
            "border": null,
            "bottom": null,
            "display": null,
            "flex": null,
            "flex_flow": null,
            "grid_area": null,
            "grid_auto_columns": null,
            "grid_auto_flow": null,
            "grid_auto_rows": null,
            "grid_column": null,
            "grid_gap": null,
            "grid_row": null,
            "grid_template_areas": null,
            "grid_template_columns": null,
            "grid_template_rows": null,
            "height": null,
            "justify_content": null,
            "justify_items": null,
            "left": null,
            "margin": null,
            "max_height": null,
            "max_width": null,
            "min_height": null,
            "min_width": null,
            "object_fit": null,
            "object_position": null,
            "order": null,
            "overflow": null,
            "overflow_x": null,
            "overflow_y": null,
            "padding": null,
            "right": null,
            "top": null,
            "visibility": null,
            "width": null
          }
        },
        "c77e5906851741048a24d65833471e7f": {
          "model_module": "@jupyter-widgets/controls",
          "model_name": "ProgressStyleModel",
          "model_module_version": "1.5.0",
          "state": {
            "_model_module": "@jupyter-widgets/controls",
            "_model_module_version": "1.5.0",
            "_model_name": "ProgressStyleModel",
            "_view_count": null,
            "_view_module": "@jupyter-widgets/base",
            "_view_module_version": "1.2.0",
            "_view_name": "StyleView",
            "bar_color": null,
            "description_width": ""
          }
        },
        "fdf2460d47eb41e8b4ca3e4fd113118d": {
          "model_module": "@jupyter-widgets/base",
          "model_name": "LayoutModel",
          "model_module_version": "1.2.0",
          "state": {
            "_model_module": "@jupyter-widgets/base",
            "_model_module_version": "1.2.0",
            "_model_name": "LayoutModel",
            "_view_count": null,
            "_view_module": "@jupyter-widgets/base",
            "_view_module_version": "1.2.0",
            "_view_name": "LayoutView",
            "align_content": null,
            "align_items": null,
            "align_self": null,
            "border": null,
            "bottom": null,
            "display": null,
            "flex": null,
            "flex_flow": null,
            "grid_area": null,
            "grid_auto_columns": null,
            "grid_auto_flow": null,
            "grid_auto_rows": null,
            "grid_column": null,
            "grid_gap": null,
            "grid_row": null,
            "grid_template_areas": null,
            "grid_template_columns": null,
            "grid_template_rows": null,
            "height": null,
            "justify_content": null,
            "justify_items": null,
            "left": null,
            "margin": null,
            "max_height": null,
            "max_width": null,
            "min_height": null,
            "min_width": null,
            "object_fit": null,
            "object_position": null,
            "order": null,
            "overflow": null,
            "overflow_x": null,
            "overflow_y": null,
            "padding": null,
            "right": null,
            "top": null,
            "visibility": null,
            "width": null
          }
        },
        "f173e0f4a1c1486999032b6ac08b6e00": {
          "model_module": "@jupyter-widgets/controls",
          "model_name": "DescriptionStyleModel",
          "model_module_version": "1.5.0",
          "state": {
            "_model_module": "@jupyter-widgets/controls",
            "_model_module_version": "1.5.0",
            "_model_name": "DescriptionStyleModel",
            "_view_count": null,
            "_view_module": "@jupyter-widgets/base",
            "_view_module_version": "1.2.0",
            "_view_name": "StyleView",
            "description_width": ""
          }
        },
        "17e7c4448bb44ca4b1f4863be971118c": {
          "model_module": "@jupyter-widgets/controls",
          "model_name": "HBoxModel",
          "model_module_version": "1.5.0",
          "state": {
            "_dom_classes": [],
            "_model_module": "@jupyter-widgets/controls",
            "_model_module_version": "1.5.0",
            "_model_name": "HBoxModel",
            "_view_count": null,
            "_view_module": "@jupyter-widgets/controls",
            "_view_module_version": "1.5.0",
            "_view_name": "HBoxView",
            "box_style": "",
            "children": [
              "IPY_MODEL_5e06107d566e44bb99153087fcb3161d",
              "IPY_MODEL_06b78eb9e49b4f2ea834d36ebdfc5c92",
              "IPY_MODEL_e9ccc626504746daade1ffab21605c04"
            ],
            "layout": "IPY_MODEL_b9a5f07f5c7e4d0b9839dd0609982a6d"
          }
        },
        "5e06107d566e44bb99153087fcb3161d": {
          "model_module": "@jupyter-widgets/controls",
          "model_name": "HTMLModel",
          "model_module_version": "1.5.0",
          "state": {
            "_dom_classes": [],
            "_model_module": "@jupyter-widgets/controls",
            "_model_module_version": "1.5.0",
            "_model_name": "HTMLModel",
            "_view_count": null,
            "_view_module": "@jupyter-widgets/controls",
            "_view_module_version": "1.5.0",
            "_view_name": "HTMLView",
            "description": "",
            "description_tooltip": null,
            "layout": "IPY_MODEL_ea3f8c76de634b4f862b9d8358d31de8",
            "placeholder": "​",
            "style": "IPY_MODEL_48e0849afe7f4ab3b7e98f21c57401a5",
            "value": ""
          }
        },
        "06b78eb9e49b4f2ea834d36ebdfc5c92": {
          "model_module": "@jupyter-widgets/controls",
          "model_name": "FloatProgressModel",
          "model_module_version": "1.5.0",
          "state": {
            "_dom_classes": [],
            "_model_module": "@jupyter-widgets/controls",
            "_model_module_version": "1.5.0",
            "_model_name": "FloatProgressModel",
            "_view_count": null,
            "_view_module": "@jupyter-widgets/controls",
            "_view_module_version": "1.5.0",
            "_view_name": "ProgressView",
            "bar_style": "success",
            "description": "",
            "description_tooltip": null,
            "layout": "IPY_MODEL_142602a8a79a4cb19028a72c600af23f",
            "max": 29515,
            "min": 0,
            "orientation": "horizontal",
            "style": "IPY_MODEL_08eb0db226f8412aa63db3836972e22e",
            "value": 29515
          }
        },
        "e9ccc626504746daade1ffab21605c04": {
          "model_module": "@jupyter-widgets/controls",
          "model_name": "HTMLModel",
          "model_module_version": "1.5.0",
          "state": {
            "_dom_classes": [],
            "_model_module": "@jupyter-widgets/controls",
            "_model_module_version": "1.5.0",
            "_model_name": "HTMLModel",
            "_view_count": null,
            "_view_module": "@jupyter-widgets/controls",
            "_view_module_version": "1.5.0",
            "_view_name": "HTMLView",
            "description": "",
            "description_tooltip": null,
            "layout": "IPY_MODEL_b039592e3470471b9e82e02a5b30524c",
            "placeholder": "​",
            "style": "IPY_MODEL_f9036d446ff641998e9773532d3b1121",
            "value": " 29696/? [00:00&lt;00:00, 55699.17it/s]"
          }
        },
        "b9a5f07f5c7e4d0b9839dd0609982a6d": {
          "model_module": "@jupyter-widgets/base",
          "model_name": "LayoutModel",
          "model_module_version": "1.2.0",
          "state": {
            "_model_module": "@jupyter-widgets/base",
            "_model_module_version": "1.2.0",
            "_model_name": "LayoutModel",
            "_view_count": null,
            "_view_module": "@jupyter-widgets/base",
            "_view_module_version": "1.2.0",
            "_view_name": "LayoutView",
            "align_content": null,
            "align_items": null,
            "align_self": null,
            "border": null,
            "bottom": null,
            "display": null,
            "flex": null,
            "flex_flow": null,
            "grid_area": null,
            "grid_auto_columns": null,
            "grid_auto_flow": null,
            "grid_auto_rows": null,
            "grid_column": null,
            "grid_gap": null,
            "grid_row": null,
            "grid_template_areas": null,
            "grid_template_columns": null,
            "grid_template_rows": null,
            "height": null,
            "justify_content": null,
            "justify_items": null,
            "left": null,
            "margin": null,
            "max_height": null,
            "max_width": null,
            "min_height": null,
            "min_width": null,
            "object_fit": null,
            "object_position": null,
            "order": null,
            "overflow": null,
            "overflow_x": null,
            "overflow_y": null,
            "padding": null,
            "right": null,
            "top": null,
            "visibility": null,
            "width": null
          }
        },
        "ea3f8c76de634b4f862b9d8358d31de8": {
          "model_module": "@jupyter-widgets/base",
          "model_name": "LayoutModel",
          "model_module_version": "1.2.0",
          "state": {
            "_model_module": "@jupyter-widgets/base",
            "_model_module_version": "1.2.0",
            "_model_name": "LayoutModel",
            "_view_count": null,
            "_view_module": "@jupyter-widgets/base",
            "_view_module_version": "1.2.0",
            "_view_name": "LayoutView",
            "align_content": null,
            "align_items": null,
            "align_self": null,
            "border": null,
            "bottom": null,
            "display": null,
            "flex": null,
            "flex_flow": null,
            "grid_area": null,
            "grid_auto_columns": null,
            "grid_auto_flow": null,
            "grid_auto_rows": null,
            "grid_column": null,
            "grid_gap": null,
            "grid_row": null,
            "grid_template_areas": null,
            "grid_template_columns": null,
            "grid_template_rows": null,
            "height": null,
            "justify_content": null,
            "justify_items": null,
            "left": null,
            "margin": null,
            "max_height": null,
            "max_width": null,
            "min_height": null,
            "min_width": null,
            "object_fit": null,
            "object_position": null,
            "order": null,
            "overflow": null,
            "overflow_x": null,
            "overflow_y": null,
            "padding": null,
            "right": null,
            "top": null,
            "visibility": null,
            "width": null
          }
        },
        "48e0849afe7f4ab3b7e98f21c57401a5": {
          "model_module": "@jupyter-widgets/controls",
          "model_name": "DescriptionStyleModel",
          "model_module_version": "1.5.0",
          "state": {
            "_model_module": "@jupyter-widgets/controls",
            "_model_module_version": "1.5.0",
            "_model_name": "DescriptionStyleModel",
            "_view_count": null,
            "_view_module": "@jupyter-widgets/base",
            "_view_module_version": "1.2.0",
            "_view_name": "StyleView",
            "description_width": ""
          }
        },
        "142602a8a79a4cb19028a72c600af23f": {
          "model_module": "@jupyter-widgets/base",
          "model_name": "LayoutModel",
          "model_module_version": "1.2.0",
          "state": {
            "_model_module": "@jupyter-widgets/base",
            "_model_module_version": "1.2.0",
            "_model_name": "LayoutModel",
            "_view_count": null,
            "_view_module": "@jupyter-widgets/base",
            "_view_module_version": "1.2.0",
            "_view_name": "LayoutView",
            "align_content": null,
            "align_items": null,
            "align_self": null,
            "border": null,
            "bottom": null,
            "display": null,
            "flex": null,
            "flex_flow": null,
            "grid_area": null,
            "grid_auto_columns": null,
            "grid_auto_flow": null,
            "grid_auto_rows": null,
            "grid_column": null,
            "grid_gap": null,
            "grid_row": null,
            "grid_template_areas": null,
            "grid_template_columns": null,
            "grid_template_rows": null,
            "height": null,
            "justify_content": null,
            "justify_items": null,
            "left": null,
            "margin": null,
            "max_height": null,
            "max_width": null,
            "min_height": null,
            "min_width": null,
            "object_fit": null,
            "object_position": null,
            "order": null,
            "overflow": null,
            "overflow_x": null,
            "overflow_y": null,
            "padding": null,
            "right": null,
            "top": null,
            "visibility": null,
            "width": null
          }
        },
        "08eb0db226f8412aa63db3836972e22e": {
          "model_module": "@jupyter-widgets/controls",
          "model_name": "ProgressStyleModel",
          "model_module_version": "1.5.0",
          "state": {
            "_model_module": "@jupyter-widgets/controls",
            "_model_module_version": "1.5.0",
            "_model_name": "ProgressStyleModel",
            "_view_count": null,
            "_view_module": "@jupyter-widgets/base",
            "_view_module_version": "1.2.0",
            "_view_name": "StyleView",
            "bar_color": null,
            "description_width": ""
          }
        },
        "b039592e3470471b9e82e02a5b30524c": {
          "model_module": "@jupyter-widgets/base",
          "model_name": "LayoutModel",
          "model_module_version": "1.2.0",
          "state": {
            "_model_module": "@jupyter-widgets/base",
            "_model_module_version": "1.2.0",
            "_model_name": "LayoutModel",
            "_view_count": null,
            "_view_module": "@jupyter-widgets/base",
            "_view_module_version": "1.2.0",
            "_view_name": "LayoutView",
            "align_content": null,
            "align_items": null,
            "align_self": null,
            "border": null,
            "bottom": null,
            "display": null,
            "flex": null,
            "flex_flow": null,
            "grid_area": null,
            "grid_auto_columns": null,
            "grid_auto_flow": null,
            "grid_auto_rows": null,
            "grid_column": null,
            "grid_gap": null,
            "grid_row": null,
            "grid_template_areas": null,
            "grid_template_columns": null,
            "grid_template_rows": null,
            "height": null,
            "justify_content": null,
            "justify_items": null,
            "left": null,
            "margin": null,
            "max_height": null,
            "max_width": null,
            "min_height": null,
            "min_width": null,
            "object_fit": null,
            "object_position": null,
            "order": null,
            "overflow": null,
            "overflow_x": null,
            "overflow_y": null,
            "padding": null,
            "right": null,
            "top": null,
            "visibility": null,
            "width": null
          }
        },
        "f9036d446ff641998e9773532d3b1121": {
          "model_module": "@jupyter-widgets/controls",
          "model_name": "DescriptionStyleModel",
          "model_module_version": "1.5.0",
          "state": {
            "_model_module": "@jupyter-widgets/controls",
            "_model_module_version": "1.5.0",
            "_model_name": "DescriptionStyleModel",
            "_view_count": null,
            "_view_module": "@jupyter-widgets/base",
            "_view_module_version": "1.2.0",
            "_view_name": "StyleView",
            "description_width": ""
          }
        },
        "b400b9e3e6274369bd5e83f48c9fa9ae": {
          "model_module": "@jupyter-widgets/controls",
          "model_name": "HBoxModel",
          "model_module_version": "1.5.0",
          "state": {
            "_dom_classes": [],
            "_model_module": "@jupyter-widgets/controls",
            "_model_module_version": "1.5.0",
            "_model_name": "HBoxModel",
            "_view_count": null,
            "_view_module": "@jupyter-widgets/controls",
            "_view_module_version": "1.5.0",
            "_view_name": "HBoxView",
            "box_style": "",
            "children": [
              "IPY_MODEL_6dc23407479d43a7b480c0b52f9cf052",
              "IPY_MODEL_d37fb1d6b23f4680854b6afabc186596",
              "IPY_MODEL_ed8775ef1b044ac89bf4c931d3211535"
            ],
            "layout": "IPY_MODEL_5ca22e501600408a8b426204b6de66e7"
          }
        },
        "6dc23407479d43a7b480c0b52f9cf052": {
          "model_module": "@jupyter-widgets/controls",
          "model_name": "HTMLModel",
          "model_module_version": "1.5.0",
          "state": {
            "_dom_classes": [],
            "_model_module": "@jupyter-widgets/controls",
            "_model_module_version": "1.5.0",
            "_model_name": "HTMLModel",
            "_view_count": null,
            "_view_module": "@jupyter-widgets/controls",
            "_view_module_version": "1.5.0",
            "_view_name": "HTMLView",
            "description": "",
            "description_tooltip": null,
            "layout": "IPY_MODEL_7bc75dc3609249c6aff0c2e0a76ef3b3",
            "placeholder": "​",
            "style": "IPY_MODEL_2b8cb1822b024e0c8c23b5f315a2e702",
            "value": ""
          }
        },
        "d37fb1d6b23f4680854b6afabc186596": {
          "model_module": "@jupyter-widgets/controls",
          "model_name": "FloatProgressModel",
          "model_module_version": "1.5.0",
          "state": {
            "_dom_classes": [],
            "_model_module": "@jupyter-widgets/controls",
            "_model_module_version": "1.5.0",
            "_model_name": "FloatProgressModel",
            "_view_count": null,
            "_view_module": "@jupyter-widgets/controls",
            "_view_module_version": "1.5.0",
            "_view_name": "ProgressView",
            "bar_style": "success",
            "description": "",
            "description_tooltip": null,
            "layout": "IPY_MODEL_d621b7fb4774461891dbcfa47abd30cf",
            "max": 4422102,
            "min": 0,
            "orientation": "horizontal",
            "style": "IPY_MODEL_3db5d17a23b948d595e75d527334a2d8",
            "value": 4422102
          }
        },
        "ed8775ef1b044ac89bf4c931d3211535": {
          "model_module": "@jupyter-widgets/controls",
          "model_name": "HTMLModel",
          "model_module_version": "1.5.0",
          "state": {
            "_dom_classes": [],
            "_model_module": "@jupyter-widgets/controls",
            "_model_module_version": "1.5.0",
            "_model_name": "HTMLModel",
            "_view_count": null,
            "_view_module": "@jupyter-widgets/controls",
            "_view_module_version": "1.5.0",
            "_view_name": "HTMLView",
            "description": "",
            "description_tooltip": null,
            "layout": "IPY_MODEL_57ea778155244df1b8a95561c1d573a7",
            "placeholder": "​",
            "style": "IPY_MODEL_09e4202cdc8b4ece87d4248059968abc",
            "value": " 4422656/? [00:02&lt;00:00, 3314952.43it/s]"
          }
        },
        "5ca22e501600408a8b426204b6de66e7": {
          "model_module": "@jupyter-widgets/base",
          "model_name": "LayoutModel",
          "model_module_version": "1.2.0",
          "state": {
            "_model_module": "@jupyter-widgets/base",
            "_model_module_version": "1.2.0",
            "_model_name": "LayoutModel",
            "_view_count": null,
            "_view_module": "@jupyter-widgets/base",
            "_view_module_version": "1.2.0",
            "_view_name": "LayoutView",
            "align_content": null,
            "align_items": null,
            "align_self": null,
            "border": null,
            "bottom": null,
            "display": null,
            "flex": null,
            "flex_flow": null,
            "grid_area": null,
            "grid_auto_columns": null,
            "grid_auto_flow": null,
            "grid_auto_rows": null,
            "grid_column": null,
            "grid_gap": null,
            "grid_row": null,
            "grid_template_areas": null,
            "grid_template_columns": null,
            "grid_template_rows": null,
            "height": null,
            "justify_content": null,
            "justify_items": null,
            "left": null,
            "margin": null,
            "max_height": null,
            "max_width": null,
            "min_height": null,
            "min_width": null,
            "object_fit": null,
            "object_position": null,
            "order": null,
            "overflow": null,
            "overflow_x": null,
            "overflow_y": null,
            "padding": null,
            "right": null,
            "top": null,
            "visibility": null,
            "width": null
          }
        },
        "7bc75dc3609249c6aff0c2e0a76ef3b3": {
          "model_module": "@jupyter-widgets/base",
          "model_name": "LayoutModel",
          "model_module_version": "1.2.0",
          "state": {
            "_model_module": "@jupyter-widgets/base",
            "_model_module_version": "1.2.0",
            "_model_name": "LayoutModel",
            "_view_count": null,
            "_view_module": "@jupyter-widgets/base",
            "_view_module_version": "1.2.0",
            "_view_name": "LayoutView",
            "align_content": null,
            "align_items": null,
            "align_self": null,
            "border": null,
            "bottom": null,
            "display": null,
            "flex": null,
            "flex_flow": null,
            "grid_area": null,
            "grid_auto_columns": null,
            "grid_auto_flow": null,
            "grid_auto_rows": null,
            "grid_column": null,
            "grid_gap": null,
            "grid_row": null,
            "grid_template_areas": null,
            "grid_template_columns": null,
            "grid_template_rows": null,
            "height": null,
            "justify_content": null,
            "justify_items": null,
            "left": null,
            "margin": null,
            "max_height": null,
            "max_width": null,
            "min_height": null,
            "min_width": null,
            "object_fit": null,
            "object_position": null,
            "order": null,
            "overflow": null,
            "overflow_x": null,
            "overflow_y": null,
            "padding": null,
            "right": null,
            "top": null,
            "visibility": null,
            "width": null
          }
        },
        "2b8cb1822b024e0c8c23b5f315a2e702": {
          "model_module": "@jupyter-widgets/controls",
          "model_name": "DescriptionStyleModel",
          "model_module_version": "1.5.0",
          "state": {
            "_model_module": "@jupyter-widgets/controls",
            "_model_module_version": "1.5.0",
            "_model_name": "DescriptionStyleModel",
            "_view_count": null,
            "_view_module": "@jupyter-widgets/base",
            "_view_module_version": "1.2.0",
            "_view_name": "StyleView",
            "description_width": ""
          }
        },
        "d621b7fb4774461891dbcfa47abd30cf": {
          "model_module": "@jupyter-widgets/base",
          "model_name": "LayoutModel",
          "model_module_version": "1.2.0",
          "state": {
            "_model_module": "@jupyter-widgets/base",
            "_model_module_version": "1.2.0",
            "_model_name": "LayoutModel",
            "_view_count": null,
            "_view_module": "@jupyter-widgets/base",
            "_view_module_version": "1.2.0",
            "_view_name": "LayoutView",
            "align_content": null,
            "align_items": null,
            "align_self": null,
            "border": null,
            "bottom": null,
            "display": null,
            "flex": null,
            "flex_flow": null,
            "grid_area": null,
            "grid_auto_columns": null,
            "grid_auto_flow": null,
            "grid_auto_rows": null,
            "grid_column": null,
            "grid_gap": null,
            "grid_row": null,
            "grid_template_areas": null,
            "grid_template_columns": null,
            "grid_template_rows": null,
            "height": null,
            "justify_content": null,
            "justify_items": null,
            "left": null,
            "margin": null,
            "max_height": null,
            "max_width": null,
            "min_height": null,
            "min_width": null,
            "object_fit": null,
            "object_position": null,
            "order": null,
            "overflow": null,
            "overflow_x": null,
            "overflow_y": null,
            "padding": null,
            "right": null,
            "top": null,
            "visibility": null,
            "width": null
          }
        },
        "3db5d17a23b948d595e75d527334a2d8": {
          "model_module": "@jupyter-widgets/controls",
          "model_name": "ProgressStyleModel",
          "model_module_version": "1.5.0",
          "state": {
            "_model_module": "@jupyter-widgets/controls",
            "_model_module_version": "1.5.0",
            "_model_name": "ProgressStyleModel",
            "_view_count": null,
            "_view_module": "@jupyter-widgets/base",
            "_view_module_version": "1.2.0",
            "_view_name": "StyleView",
            "bar_color": null,
            "description_width": ""
          }
        },
        "57ea778155244df1b8a95561c1d573a7": {
          "model_module": "@jupyter-widgets/base",
          "model_name": "LayoutModel",
          "model_module_version": "1.2.0",
          "state": {
            "_model_module": "@jupyter-widgets/base",
            "_model_module_version": "1.2.0",
            "_model_name": "LayoutModel",
            "_view_count": null,
            "_view_module": "@jupyter-widgets/base",
            "_view_module_version": "1.2.0",
            "_view_name": "LayoutView",
            "align_content": null,
            "align_items": null,
            "align_self": null,
            "border": null,
            "bottom": null,
            "display": null,
            "flex": null,
            "flex_flow": null,
            "grid_area": null,
            "grid_auto_columns": null,
            "grid_auto_flow": null,
            "grid_auto_rows": null,
            "grid_column": null,
            "grid_gap": null,
            "grid_row": null,
            "grid_template_areas": null,
            "grid_template_columns": null,
            "grid_template_rows": null,
            "height": null,
            "justify_content": null,
            "justify_items": null,
            "left": null,
            "margin": null,
            "max_height": null,
            "max_width": null,
            "min_height": null,
            "min_width": null,
            "object_fit": null,
            "object_position": null,
            "order": null,
            "overflow": null,
            "overflow_x": null,
            "overflow_y": null,
            "padding": null,
            "right": null,
            "top": null,
            "visibility": null,
            "width": null
          }
        },
        "09e4202cdc8b4ece87d4248059968abc": {
          "model_module": "@jupyter-widgets/controls",
          "model_name": "DescriptionStyleModel",
          "model_module_version": "1.5.0",
          "state": {
            "_model_module": "@jupyter-widgets/controls",
            "_model_module_version": "1.5.0",
            "_model_name": "DescriptionStyleModel",
            "_view_count": null,
            "_view_module": "@jupyter-widgets/base",
            "_view_module_version": "1.2.0",
            "_view_name": "StyleView",
            "description_width": ""
          }
        },
        "61c4f3d62e3243a584678afe76de5666": {
          "model_module": "@jupyter-widgets/controls",
          "model_name": "HBoxModel",
          "model_module_version": "1.5.0",
          "state": {
            "_dom_classes": [],
            "_model_module": "@jupyter-widgets/controls",
            "_model_module_version": "1.5.0",
            "_model_name": "HBoxModel",
            "_view_count": null,
            "_view_module": "@jupyter-widgets/controls",
            "_view_module_version": "1.5.0",
            "_view_name": "HBoxView",
            "box_style": "",
            "children": [
              "IPY_MODEL_147657daf5444f698c134efaad023ba8",
              "IPY_MODEL_6cd0920b43c14ad685dc4ee6c7672f8d",
              "IPY_MODEL_350906e30429456aa06831a10b2f3fbe"
            ],
            "layout": "IPY_MODEL_2ecd96d20d2e49b389b17d86224f1a00"
          }
        },
        "147657daf5444f698c134efaad023ba8": {
          "model_module": "@jupyter-widgets/controls",
          "model_name": "HTMLModel",
          "model_module_version": "1.5.0",
          "state": {
            "_dom_classes": [],
            "_model_module": "@jupyter-widgets/controls",
            "_model_module_version": "1.5.0",
            "_model_name": "HTMLModel",
            "_view_count": null,
            "_view_module": "@jupyter-widgets/controls",
            "_view_module_version": "1.5.0",
            "_view_name": "HTMLView",
            "description": "",
            "description_tooltip": null,
            "layout": "IPY_MODEL_d6cd969d85864914874fe93ea5de4758",
            "placeholder": "​",
            "style": "IPY_MODEL_f253e5d13ed14e78b5d9054ee56b3669",
            "value": ""
          }
        },
        "6cd0920b43c14ad685dc4ee6c7672f8d": {
          "model_module": "@jupyter-widgets/controls",
          "model_name": "FloatProgressModel",
          "model_module_version": "1.5.0",
          "state": {
            "_dom_classes": [],
            "_model_module": "@jupyter-widgets/controls",
            "_model_module_version": "1.5.0",
            "_model_name": "FloatProgressModel",
            "_view_count": null,
            "_view_module": "@jupyter-widgets/controls",
            "_view_module_version": "1.5.0",
            "_view_name": "ProgressView",
            "bar_style": "success",
            "description": "",
            "description_tooltip": null,
            "layout": "IPY_MODEL_7fa7bab783354f80a35d5a052a2728eb",
            "max": 5148,
            "min": 0,
            "orientation": "horizontal",
            "style": "IPY_MODEL_d0121d8dfdf84aa1b3e8e0113760baf3",
            "value": 5148
          }
        },
        "350906e30429456aa06831a10b2f3fbe": {
          "model_module": "@jupyter-widgets/controls",
          "model_name": "HTMLModel",
          "model_module_version": "1.5.0",
          "state": {
            "_dom_classes": [],
            "_model_module": "@jupyter-widgets/controls",
            "_model_module_version": "1.5.0",
            "_model_name": "HTMLModel",
            "_view_count": null,
            "_view_module": "@jupyter-widgets/controls",
            "_view_module_version": "1.5.0",
            "_view_name": "HTMLView",
            "description": "",
            "description_tooltip": null,
            "layout": "IPY_MODEL_f85e1b62a7f24bc4a8297ccbd37831cc",
            "placeholder": "​",
            "style": "IPY_MODEL_0f0803be5bc043659368f767db9ba88b",
            "value": " 6144/? [00:00&lt;00:00, 162963.88it/s]"
          }
        },
        "2ecd96d20d2e49b389b17d86224f1a00": {
          "model_module": "@jupyter-widgets/base",
          "model_name": "LayoutModel",
          "model_module_version": "1.2.0",
          "state": {
            "_model_module": "@jupyter-widgets/base",
            "_model_module_version": "1.2.0",
            "_model_name": "LayoutModel",
            "_view_count": null,
            "_view_module": "@jupyter-widgets/base",
            "_view_module_version": "1.2.0",
            "_view_name": "LayoutView",
            "align_content": null,
            "align_items": null,
            "align_self": null,
            "border": null,
            "bottom": null,
            "display": null,
            "flex": null,
            "flex_flow": null,
            "grid_area": null,
            "grid_auto_columns": null,
            "grid_auto_flow": null,
            "grid_auto_rows": null,
            "grid_column": null,
            "grid_gap": null,
            "grid_row": null,
            "grid_template_areas": null,
            "grid_template_columns": null,
            "grid_template_rows": null,
            "height": null,
            "justify_content": null,
            "justify_items": null,
            "left": null,
            "margin": null,
            "max_height": null,
            "max_width": null,
            "min_height": null,
            "min_width": null,
            "object_fit": null,
            "object_position": null,
            "order": null,
            "overflow": null,
            "overflow_x": null,
            "overflow_y": null,
            "padding": null,
            "right": null,
            "top": null,
            "visibility": null,
            "width": null
          }
        },
        "d6cd969d85864914874fe93ea5de4758": {
          "model_module": "@jupyter-widgets/base",
          "model_name": "LayoutModel",
          "model_module_version": "1.2.0",
          "state": {
            "_model_module": "@jupyter-widgets/base",
            "_model_module_version": "1.2.0",
            "_model_name": "LayoutModel",
            "_view_count": null,
            "_view_module": "@jupyter-widgets/base",
            "_view_module_version": "1.2.0",
            "_view_name": "LayoutView",
            "align_content": null,
            "align_items": null,
            "align_self": null,
            "border": null,
            "bottom": null,
            "display": null,
            "flex": null,
            "flex_flow": null,
            "grid_area": null,
            "grid_auto_columns": null,
            "grid_auto_flow": null,
            "grid_auto_rows": null,
            "grid_column": null,
            "grid_gap": null,
            "grid_row": null,
            "grid_template_areas": null,
            "grid_template_columns": null,
            "grid_template_rows": null,
            "height": null,
            "justify_content": null,
            "justify_items": null,
            "left": null,
            "margin": null,
            "max_height": null,
            "max_width": null,
            "min_height": null,
            "min_width": null,
            "object_fit": null,
            "object_position": null,
            "order": null,
            "overflow": null,
            "overflow_x": null,
            "overflow_y": null,
            "padding": null,
            "right": null,
            "top": null,
            "visibility": null,
            "width": null
          }
        },
        "f253e5d13ed14e78b5d9054ee56b3669": {
          "model_module": "@jupyter-widgets/controls",
          "model_name": "DescriptionStyleModel",
          "model_module_version": "1.5.0",
          "state": {
            "_model_module": "@jupyter-widgets/controls",
            "_model_module_version": "1.5.0",
            "_model_name": "DescriptionStyleModel",
            "_view_count": null,
            "_view_module": "@jupyter-widgets/base",
            "_view_module_version": "1.2.0",
            "_view_name": "StyleView",
            "description_width": ""
          }
        },
        "7fa7bab783354f80a35d5a052a2728eb": {
          "model_module": "@jupyter-widgets/base",
          "model_name": "LayoutModel",
          "model_module_version": "1.2.0",
          "state": {
            "_model_module": "@jupyter-widgets/base",
            "_model_module_version": "1.2.0",
            "_model_name": "LayoutModel",
            "_view_count": null,
            "_view_module": "@jupyter-widgets/base",
            "_view_module_version": "1.2.0",
            "_view_name": "LayoutView",
            "align_content": null,
            "align_items": null,
            "align_self": null,
            "border": null,
            "bottom": null,
            "display": null,
            "flex": null,
            "flex_flow": null,
            "grid_area": null,
            "grid_auto_columns": null,
            "grid_auto_flow": null,
            "grid_auto_rows": null,
            "grid_column": null,
            "grid_gap": null,
            "grid_row": null,
            "grid_template_areas": null,
            "grid_template_columns": null,
            "grid_template_rows": null,
            "height": null,
            "justify_content": null,
            "justify_items": null,
            "left": null,
            "margin": null,
            "max_height": null,
            "max_width": null,
            "min_height": null,
            "min_width": null,
            "object_fit": null,
            "object_position": null,
            "order": null,
            "overflow": null,
            "overflow_x": null,
            "overflow_y": null,
            "padding": null,
            "right": null,
            "top": null,
            "visibility": null,
            "width": null
          }
        },
        "d0121d8dfdf84aa1b3e8e0113760baf3": {
          "model_module": "@jupyter-widgets/controls",
          "model_name": "ProgressStyleModel",
          "model_module_version": "1.5.0",
          "state": {
            "_model_module": "@jupyter-widgets/controls",
            "_model_module_version": "1.5.0",
            "_model_name": "ProgressStyleModel",
            "_view_count": null,
            "_view_module": "@jupyter-widgets/base",
            "_view_module_version": "1.2.0",
            "_view_name": "StyleView",
            "bar_color": null,
            "description_width": ""
          }
        },
        "f85e1b62a7f24bc4a8297ccbd37831cc": {
          "model_module": "@jupyter-widgets/base",
          "model_name": "LayoutModel",
          "model_module_version": "1.2.0",
          "state": {
            "_model_module": "@jupyter-widgets/base",
            "_model_module_version": "1.2.0",
            "_model_name": "LayoutModel",
            "_view_count": null,
            "_view_module": "@jupyter-widgets/base",
            "_view_module_version": "1.2.0",
            "_view_name": "LayoutView",
            "align_content": null,
            "align_items": null,
            "align_self": null,
            "border": null,
            "bottom": null,
            "display": null,
            "flex": null,
            "flex_flow": null,
            "grid_area": null,
            "grid_auto_columns": null,
            "grid_auto_flow": null,
            "grid_auto_rows": null,
            "grid_column": null,
            "grid_gap": null,
            "grid_row": null,
            "grid_template_areas": null,
            "grid_template_columns": null,
            "grid_template_rows": null,
            "height": null,
            "justify_content": null,
            "justify_items": null,
            "left": null,
            "margin": null,
            "max_height": null,
            "max_width": null,
            "min_height": null,
            "min_width": null,
            "object_fit": null,
            "object_position": null,
            "order": null,
            "overflow": null,
            "overflow_x": null,
            "overflow_y": null,
            "padding": null,
            "right": null,
            "top": null,
            "visibility": null,
            "width": null
          }
        },
        "0f0803be5bc043659368f767db9ba88b": {
          "model_module": "@jupyter-widgets/controls",
          "model_name": "DescriptionStyleModel",
          "model_module_version": "1.5.0",
          "state": {
            "_model_module": "@jupyter-widgets/controls",
            "_model_module_version": "1.5.0",
            "_model_name": "DescriptionStyleModel",
            "_view_count": null,
            "_view_module": "@jupyter-widgets/base",
            "_view_module_version": "1.2.0",
            "_view_name": "StyleView",
            "description_width": ""
          }
        }
      }
    }
  },
  "nbformat": 4,
  "nbformat_minor": 0
}